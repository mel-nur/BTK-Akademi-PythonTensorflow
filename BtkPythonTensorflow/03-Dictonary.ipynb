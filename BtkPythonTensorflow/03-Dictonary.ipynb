{
 "cells": [
  {
   "cell_type": "code",
   "execution_count": 1,
   "id": "116f4a4d-4a3a-4256-b61f-22974d549880",
   "metadata": {},
   "outputs": [],
   "source": [
    "benimListem = [1,2,3]"
   ]
  },
  {
   "cell_type": "code",
   "execution_count": 3,
   "id": "dde354c5-1910-4807-9e91-3fcb66d6909e",
   "metadata": {},
   "outputs": [
    {
     "data": {
      "text/plain": [
       "1"
      ]
     },
     "execution_count": 3,
     "metadata": {},
     "output_type": "execute_result"
    }
   ],
   "source": [
    "benimListem[0]"
   ]
  },
  {
   "cell_type": "markdown",
   "id": "17ed7d14-5d32-4192-a6e4-c62203967106",
   "metadata": {},
   "source": [
    "# key-value pairing (anahtar kelime-değer eşleşmesi)"
   ]
  },
  {
   "cell_type": "code",
   "execution_count": 6,
   "id": "d84fbace-05cb-48ad-9feb-a0e6ff89be66",
   "metadata": {},
   "outputs": [],
   "source": [
    "benimYemeklerim = [\"Elma\",\"Karpuz\",\"Muz\"]"
   ]
  },
  {
   "cell_type": "code",
   "execution_count": 8,
   "id": "8dfe4272-a9d5-4641-bf92-bf3d5152410b",
   "metadata": {},
   "outputs": [],
   "source": [
    "benimKalorilerim = [100,200,300]"
   ]
  },
  {
   "cell_type": "code",
   "execution_count": 14,
   "id": "8103166c-5769-4455-8802-96749c0d7425",
   "metadata": {},
   "outputs": [
    {
     "data": {
      "text/plain": [
       "'Karpuz'"
      ]
     },
     "execution_count": 14,
     "metadata": {},
     "output_type": "execute_result"
    }
   ],
   "source": [
    "benimYemeklerim[1]"
   ]
  },
  {
   "cell_type": "code",
   "execution_count": 16,
   "id": "a1b7b27e-ed94-4244-ac47-967a124d6a02",
   "metadata": {},
   "outputs": [
    {
     "data": {
      "text/plain": [
       "200"
      ]
     },
     "execution_count": 16,
     "metadata": {},
     "output_type": "execute_result"
    }
   ],
   "source": [
    "benimKalorilerim[1]"
   ]
  },
  {
   "cell_type": "code",
   "execution_count": 18,
   "id": "eeca87e1-6a86-45d6-b9d7-85574e592e36",
   "metadata": {},
   "outputs": [],
   "source": [
    "#dictionary"
   ]
  },
  {
   "cell_type": "code",
   "execution_count": 20,
   "id": "c7f6d15b-e47b-4763-ae8f-3acd244ffd40",
   "metadata": {},
   "outputs": [],
   "source": [
    "benimSozluk = {\"anahtarKelime\" : \"deger\"}"
   ]
  },
  {
   "cell_type": "code",
   "execution_count": 22,
   "id": "176cbd5b-9db6-4fc9-9dd1-c49263da8ecc",
   "metadata": {},
   "outputs": [
    {
     "data": {
      "text/plain": [
       "dict"
      ]
     },
     "execution_count": 22,
     "metadata": {},
     "output_type": "execute_result"
    }
   ],
   "source": [
    "type(benimSozluk)"
   ]
  },
  {
   "cell_type": "code",
   "execution_count": 24,
   "id": "cd426619-fac8-42d9-af0e-6cf915e91862",
   "metadata": {},
   "outputs": [
    {
     "data": {
      "text/plain": [
       "'deger'"
      ]
     },
     "execution_count": 24,
     "metadata": {},
     "output_type": "execute_result"
    }
   ],
   "source": [
    "benimSozluk[\"anahtarKelime\"]"
   ]
  },
  {
   "cell_type": "code",
   "execution_count": 28,
   "id": "1e0a9ed2-ed0c-403f-880a-165ec7f162f2",
   "metadata": {},
   "outputs": [],
   "source": [
    "benimYemekKaloriSozlugum = {\"elma\" : 100 , \"karpuz\" : 200 , \"muz\" : 300}"
   ]
  },
  {
   "cell_type": "code",
   "execution_count": 30,
   "id": "280fc627-0306-414d-8729-857a3a4496ad",
   "metadata": {},
   "outputs": [
    {
     "data": {
      "text/plain": [
       "300"
      ]
     },
     "execution_count": 30,
     "metadata": {},
     "output_type": "execute_result"
    }
   ],
   "source": [
    "benimYemekKaloriSozlugum[\"muz\"]"
   ]
  },
  {
   "cell_type": "code",
   "execution_count": 32,
   "id": "4f33fdc0-b590-4b38-941b-d2a9165347d1",
   "metadata": {},
   "outputs": [],
   "source": [
    "benimYemekKaloriSozlugum[\"elma\"] = 200"
   ]
  },
  {
   "cell_type": "code",
   "execution_count": 34,
   "id": "827b2ea2-2021-44e2-ba03-4f73906ab2c4",
   "metadata": {},
   "outputs": [
    {
     "data": {
      "text/plain": [
       "{'elma': 200, 'karpuz': 200, 'muz': 300}"
      ]
     },
     "execution_count": 34,
     "metadata": {},
     "output_type": "execute_result"
    }
   ],
   "source": [
    "benimYemekKaloriSozlugum"
   ]
  },
  {
   "cell_type": "code",
   "execution_count": 36,
   "id": "6cf3b3d3-1365-45f6-88ed-f5ad4909fb4c",
   "metadata": {},
   "outputs": [],
   "source": [
    "benimDegisikSozlugum = {150 : \"atıl\" , -2 : \"atlas\"}"
   ]
  },
  {
   "cell_type": "code",
   "execution_count": 38,
   "id": "fd56db1a-3210-4da4-a3af-eef408ff12d9",
   "metadata": {},
   "outputs": [
    {
     "data": {
      "text/plain": [
       "'atıl'"
      ]
     },
     "execution_count": 38,
     "metadata": {},
     "output_type": "execute_result"
    }
   ],
   "source": [
    "benimDegisikSozlugum[150]"
   ]
  },
  {
   "cell_type": "code",
   "execution_count": 40,
   "id": "42b0e63b-2cfa-4f83-9385-0bbbba66c79f",
   "metadata": {},
   "outputs": [],
   "source": [
    "yeniDictonary = {\"anahtar1\" : 100 , \"anahtar2\" : [10,20,30,40,4.5,\"atıl\"],\"anahtar3\" : {\"anahtar9\" : 4}} "
   ]
  },
  {
   "cell_type": "code",
   "execution_count": 42,
   "id": "cb05e172-e58f-4b66-bd6a-e989f5809fff",
   "metadata": {},
   "outputs": [
    {
     "data": {
      "text/plain": [
       "dict_keys(['anahtar1', 'anahtar2', 'anahtar3'])"
      ]
     },
     "execution_count": 42,
     "metadata": {},
     "output_type": "execute_result"
    }
   ],
   "source": [
    "yeniDictonary.keys()"
   ]
  },
  {
   "cell_type": "code",
   "execution_count": 44,
   "id": "0c0af8cc-6c28-428a-b7bd-9db6c887d67e",
   "metadata": {},
   "outputs": [
    {
     "data": {
      "text/plain": [
       "dict_values([100, [10, 20, 30, 40, 4.5, 'atıl'], {'anahtar9': 4}])"
      ]
     },
     "execution_count": 44,
     "metadata": {},
     "output_type": "execute_result"
    }
   ],
   "source": [
    "yeniDictonary.values()"
   ]
  },
  {
   "cell_type": "code",
   "execution_count": 46,
   "id": "a8ea269d-7ddd-4b3b-871b-a1a0bc2b6d2c",
   "metadata": {},
   "outputs": [
    {
     "data": {
      "text/plain": [
       "'atıl'"
      ]
     },
     "execution_count": 46,
     "metadata": {},
     "output_type": "execute_result"
    }
   ],
   "source": [
    "yeniDictonary[\"anahtar2\"][-1]"
   ]
  },
  {
   "cell_type": "code",
   "execution_count": 48,
   "id": "ed9caae7-62df-464f-90b1-c7cb213dc174",
   "metadata": {},
   "outputs": [
    {
     "data": {
      "text/plain": [
       "4"
      ]
     },
     "execution_count": 48,
     "metadata": {},
     "output_type": "execute_result"
    }
   ],
   "source": [
    "yeniDictonary[\"anahtar3\"][\"anahtar9\"]"
   ]
  },
  {
   "cell_type": "code",
   "execution_count": null,
   "id": "c5d82faa-8a51-44d2-a1af-586b016beaf6",
   "metadata": {},
   "outputs": [],
   "source": []
  },
  {
   "cell_type": "code",
   "execution_count": null,
   "id": "e8ee4f63-8e49-4cac-8e2f-6800bcda3d54",
   "metadata": {},
   "outputs": [],
   "source": []
  }
 ],
 "metadata": {
  "kernelspec": {
   "display_name": "Python 3 (ipykernel)",
   "language": "python",
   "name": "python3"
  },
  "language_info": {
   "codemirror_mode": {
    "name": "ipython",
    "version": 3
   },
   "file_extension": ".py",
   "mimetype": "text/x-python",
   "name": "python",
   "nbconvert_exporter": "python",
   "pygments_lexer": "ipython3",
   "version": "3.12.4"
  }
 },
 "nbformat": 4,
 "nbformat_minor": 5
}
