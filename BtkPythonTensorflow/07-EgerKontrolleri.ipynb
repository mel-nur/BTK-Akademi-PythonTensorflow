{
 "cells": [
  {
   "cell_type": "code",
   "execution_count": 1,
   "id": "541f9aeb-6ad2-4e53-bcf8-0e054375eec4",
   "metadata": {},
   "outputs": [
    {
     "data": {
      "text/plain": [
       "True"
      ]
     },
     "execution_count": 1,
     "metadata": {},
     "output_type": "execute_result"
    }
   ],
   "source": [
    "3 > 1"
   ]
  },
  {
   "cell_type": "code",
   "execution_count": 5,
   "id": "2097a579-0217-4abb-bb8e-d5282af4ee84",
   "metadata": {},
   "outputs": [
    {
     "name": "stdout",
     "output_type": "stream",
     "text": [
      "Melike Nur Çotak\n",
      "if koşulu sağlandı\n",
      "if koşulunun dışına çıktık\n"
     ]
    }
   ],
   "source": [
    "if 3 > 1:\n",
    "    print(\"Melike Nur Çotak\")\n",
    "    print(\"if koşulu sağlandı\")\n",
    "print(\"if koşulunun dışına çıktık\")"
   ]
  },
  {
   "cell_type": "code",
   "execution_count": 13,
   "id": "f58a4248-2c95-4e6e-8597-00fd8469d6a3",
   "metadata": {},
   "outputs": [],
   "source": [
    "x = 4"
   ]
  },
  {
   "cell_type": "code",
   "execution_count": 15,
   "id": "063bb0fa-06be-4491-964c-98c8dd02756f",
   "metadata": {},
   "outputs": [],
   "source": [
    "y = 4"
   ]
  },
  {
   "cell_type": "code",
   "execution_count": 17,
   "id": "d9a9b6e7-559a-44bd-8dbf-d1fd694d4272",
   "metadata": {},
   "outputs": [
    {
     "name": "stdout",
     "output_type": "stream",
     "text": [
      "x ve y birbirine eşittir\n"
     ]
    }
   ],
   "source": [
    "if x > y:\n",
    "    print(\"x , y'den büyüktür\")\n",
    "elif y > x:\n",
    "    print(\"y , x'den daha büyükmüş\")\n",
    "else:\n",
    "    print(\"x ve y birbirine eşittir\")"
   ]
  },
  {
   "cell_type": "code",
   "execution_count": 19,
   "id": "5cf69cb8-775b-4690-9e7e-a9c070caab5f",
   "metadata": {},
   "outputs": [
    {
     "name": "stdin",
     "output_type": "stream",
     "text": [
      "Süper kahraman seçiniz :  Aquaman\n"
     ]
    }
   ],
   "source": [
    "benimKahramanim = input(\"Süper kahraman seçiniz : \")"
   ]
  },
  {
   "cell_type": "code",
   "execution_count": 23,
   "id": "4b82c781-42c3-44e4-b17e-257fab67cdc9",
   "metadata": {},
   "outputs": [
    {
     "name": "stdout",
     "output_type": "stream",
     "text": [
      "Bu kim gerçekten bilmiyoruz\n"
     ]
    }
   ],
   "source": [
    "if benimKahramanim == \"Batman\":\n",
    "    print(\"Batman'i seçtiniz tebrikler\")\n",
    "elif benimKahramanim == \"Superman\":\n",
    "    print(\"Keşke Batman'ı seçseydiniz\")\n",
    "elif benimKahramanim == \"Ironman\":\n",
    "    print(\"Iron man kimdir?\")\n",
    "else:\n",
    "    print(\"Bu kim gerçekten bilmiyoruz\")"
   ]
  },
  {
   "cell_type": "code",
   "execution_count": 25,
   "id": "078dbd91-efea-485b-a8a9-39512b5696ba",
   "metadata": {},
   "outputs": [],
   "source": [
    "a = 10\n",
    "b = 20\n",
    "c = 20"
   ]
  },
  {
   "cell_type": "code",
   "execution_count": 27,
   "id": "3914894e-2e6b-40ac-8315-bc0d3c6f7ba9",
   "metadata": {},
   "outputs": [
    {
     "name": "stdout",
     "output_type": "stream",
     "text": [
      "Bu koşullar tutmadı\n"
     ]
    }
   ],
   "source": [
    "if a > b and b > c:\n",
    "    print(\"a, b den büyük VE b de c den büyük\")\n",
    "elif a < b and b < c:\n",
    "    print(\"a, b den küçük VE b de c den küçük\")\n",
    "else:\n",
    "    print(\"Bu koşullar tutmadı\")"
   ]
  },
  {
   "cell_type": "code",
   "execution_count": 29,
   "id": "5dd3226a-8740-4c14-98b7-4711d088a170",
   "metadata": {},
   "outputs": [],
   "source": [
    "m = 10\n",
    "k = 4\n",
    "l = 1"
   ]
  },
  {
   "cell_type": "code",
   "execution_count": 31,
   "id": "9313b2ed-e1aa-4852-bc9d-5eaf95d063f2",
   "metadata": {},
   "outputs": [
    {
     "name": "stdout",
     "output_type": "stream",
     "text": [
      "Bu çalıştırılacak mı?\n"
     ]
    }
   ],
   "source": [
    "if m > k or k > l:\n",
    "    print(\"Bu çalıştırılacak mı?\")"
   ]
  },
  {
   "cell_type": "code",
   "execution_count": 37,
   "id": "5691e3af-a538-40d8-8277-5ce189966bba",
   "metadata": {},
   "outputs": [],
   "source": [
    "karakterCanli = True"
   ]
  },
  {
   "cell_type": "code",
   "execution_count": 39,
   "id": "2ba0b2df-c018-47c3-9c43-59fd1dbc2181",
   "metadata": {},
   "outputs": [
    {
     "name": "stdout",
     "output_type": "stream",
     "text": [
      "Oyun karakteriniz yaşıyor\n"
     ]
    }
   ],
   "source": [
    "if karakterCanli == True:\n",
    "    print(\"Oyun karakteriniz yaşıyor\")\n",
    "else:\n",
    "    print(\"Oyun karakteriniz yaşamıyor\")"
   ]
  },
  {
   "cell_type": "code",
   "execution_count": 41,
   "id": "42443231-a84a-48d1-b192-fa394c6d02d6",
   "metadata": {},
   "outputs": [
    {
     "name": "stdout",
     "output_type": "stream",
     "text": [
      "Oyun karakteriniz yaşıyor\n"
     ]
    }
   ],
   "source": [
    "if karakterCanli:\n",
    "    print(\"Oyun karakteriniz yaşıyor\")\n",
    "else:\n",
    "    print(\"Oyun karakteriniz yaşamıyor\")"
   ]
  },
  {
   "cell_type": "code",
   "execution_count": 43,
   "id": "394db9d4-c474-435c-8e96-3fd4afd0a72b",
   "metadata": {},
   "outputs": [],
   "source": [
    "if not karakterCanli:\n",
    "    print(\"Karakter calı değil\")"
   ]
  },
  {
   "cell_type": "code",
   "execution_count": 45,
   "id": "a9776f06-e371-4942-b9a0-61e0de2580ec",
   "metadata": {},
   "outputs": [],
   "source": [
    "benimString = \"Melike Nur Çotak\""
   ]
  },
  {
   "cell_type": "code",
   "execution_count": 47,
   "id": "c00aa7d7-32d3-4090-a68c-25cb2cae5824",
   "metadata": {},
   "outputs": [
    {
     "name": "stdout",
     "output_type": "stream",
     "text": [
      "Eşitmiş\n"
     ]
    }
   ],
   "source": [
    "if benimString == \"Melike Nur Çotak\":\n",
    "    print(\"Eşitmiş\")\n",
    "else:\n",
    "    print(\"Eşit değil\")"
   ]
  },
  {
   "cell_type": "code",
   "execution_count": 49,
   "id": "cf57b3ff-629c-4bfe-93b6-53242560b159",
   "metadata": {},
   "outputs": [
    {
     "name": "stdout",
     "output_type": "stream",
     "text": [
      "varmış\n"
     ]
    }
   ],
   "source": [
    "if \"Nur\" in benimString:\n",
    "    print(\"varmış\")\n",
    "else:\n",
    "    print(\"Yokmuş\")"
   ]
  },
  {
   "cell_type": "code",
   "execution_count": 51,
   "id": "96bf88ef-1292-4aed-99fa-c540ddcded39",
   "metadata": {},
   "outputs": [],
   "source": [
    "benimListem = [10,20,30,40,50]"
   ]
  },
  {
   "cell_type": "code",
   "execution_count": 53,
   "id": "48cbe3e7-cb1d-425b-95dc-ef3b9239fd39",
   "metadata": {},
   "outputs": [],
   "source": [
    "if 60 in benimListem:\n",
    "    print(\"Evet var\")"
   ]
  },
  {
   "cell_type": "code",
   "execution_count": 55,
   "id": "dca348ff-fb9b-4ff8-a780-792d24b7abb3",
   "metadata": {},
   "outputs": [],
   "source": [
    "benimSozluk = {\"muz\" : 100 , \"elma\" : 150 , \"karpuz\" : 500}"
   ]
  },
  {
   "cell_type": "code",
   "execution_count": 57,
   "id": "4a640d9d-c400-4eb3-b536-c409fa4f5351",
   "metadata": {},
   "outputs": [
    {
     "name": "stdout",
     "output_type": "stream",
     "text": [
      "Var\n"
     ]
    }
   ],
   "source": [
    "if \"muz\" in benimSozluk.keys():\n",
    "    print(\"Var\")"
   ]
  },
  {
   "cell_type": "code",
   "execution_count": 61,
   "id": "59a8aff8-3fe9-4381-b5b5-8837e0c2be18",
   "metadata": {},
   "outputs": [
    {
     "name": "stdout",
     "output_type": "stream",
     "text": [
      "Var\n"
     ]
    }
   ],
   "source": [
    "if 500 in benimSozluk.values():\n",
    "    print(\"Var\")"
   ]
  },
  {
   "cell_type": "code",
   "execution_count": null,
   "id": "94163231-cc76-4290-b2ba-94bd1bba2535",
   "metadata": {},
   "outputs": [],
   "source": []
  }
 ],
 "metadata": {
  "kernelspec": {
   "display_name": "Python 3 (ipykernel)",
   "language": "python",
   "name": "python3"
  },
  "language_info": {
   "codemirror_mode": {
    "name": "ipython",
    "version": 3
   },
   "file_extension": ".py",
   "mimetype": "text/x-python",
   "name": "python",
   "nbconvert_exporter": "python",
   "pygments_lexer": "ipython3",
   "version": "3.12.4"
  }
 },
 "nbformat": 4,
 "nbformat_minor": 5
}
