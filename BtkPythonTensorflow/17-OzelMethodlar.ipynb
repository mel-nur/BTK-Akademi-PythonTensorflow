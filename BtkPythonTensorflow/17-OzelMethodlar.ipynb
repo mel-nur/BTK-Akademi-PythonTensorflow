{
 "cells": [
  {
   "cell_type": "code",
   "execution_count": 281,
   "id": "1d12b2d8-e3d6-47b4-9ffa-433c2427175f",
   "metadata": {},
   "outputs": [],
   "source": [
    "class Meyve():\n",
    "\n",
    "    def __init__(self,isim,kalori):\n",
    "        self.isim = isim\n",
    "        self.kalori = kalori\n",
    "\n",
    "    def __str__(self):\n",
    "        return f\"{self.isim} şu kadar kaloriye sahiptir: {self.kalori}\"\n",
    "\n",
    "    def __len__(self):\n",
    "        return self.kalori"
   ]
  },
  {
   "cell_type": "code",
   "execution_count": 283,
   "id": "b68aa63f-5463-4dc0-af82-af691337fe6c",
   "metadata": {},
   "outputs": [],
   "source": [
    "muz = Meyve(\"muz\",150)"
   ]
  },
  {
   "cell_type": "code",
   "execution_count": 285,
   "id": "911739a6-91db-4bab-ad21-50502e49bbbd",
   "metadata": {},
   "outputs": [
    {
     "data": {
      "text/plain": [
       "150"
      ]
     },
     "execution_count": 285,
     "metadata": {},
     "output_type": "execute_result"
    }
   ],
   "source": [
    "muz.kalori"
   ]
  },
  {
   "cell_type": "code",
   "execution_count": 287,
   "id": "5524867e-6790-40fe-b7ee-4a4f2e7dde2b",
   "metadata": {},
   "outputs": [
    {
     "name": "stdout",
     "output_type": "stream",
     "text": [
      "muz şu kadar kaloriye sahiptir: 150\n"
     ]
    }
   ],
   "source": [
    "print(muz)"
   ]
  },
  {
   "cell_type": "code",
   "execution_count": 289,
   "id": "170b5809-699b-4c76-8635-99cf0f27cbe3",
   "metadata": {},
   "outputs": [],
   "source": [
    "benimListem = [1,2,3,\"a\",4,5]"
   ]
  },
  {
   "cell_type": "code",
   "execution_count": 291,
   "id": "f109f54c-e43b-408d-adc9-be52ffb32316",
   "metadata": {},
   "outputs": [
    {
     "name": "stdout",
     "output_type": "stream",
     "text": [
      "[1, 2, 3, 'a', 4, 5]\n"
     ]
    }
   ],
   "source": [
    "print(benimListem)"
   ]
  },
  {
   "cell_type": "code",
   "execution_count": 293,
   "id": "6dda5dd2-5708-44e0-a1ea-1868583d319a",
   "metadata": {},
   "outputs": [
    {
     "data": {
      "text/plain": [
       "6"
      ]
     },
     "execution_count": 293,
     "metadata": {},
     "output_type": "execute_result"
    }
   ],
   "source": [
    "len(benimListem)"
   ]
  },
  {
   "cell_type": "code",
   "execution_count": 295,
   "id": "f468cf98-b979-44d5-bbb5-c566ecaf6a0c",
   "metadata": {},
   "outputs": [
    {
     "data": {
      "text/plain": [
       "150"
      ]
     },
     "execution_count": 295,
     "metadata": {},
     "output_type": "execute_result"
    }
   ],
   "source": [
    "len(muz)"
   ]
  },
  {
   "cell_type": "code",
   "execution_count": 297,
   "id": "c0330196-eaa5-4767-92aa-65aafbb44e14",
   "metadata": {},
   "outputs": [],
   "source": [
    "elma = Meyve(\"elma\",200)"
   ]
  },
  {
   "cell_type": "code",
   "execution_count": 299,
   "id": "89485cf3-edae-401b-b77d-b92cdabe1722",
   "metadata": {},
   "outputs": [
    {
     "data": {
      "text/plain": [
       "200"
      ]
     },
     "execution_count": 299,
     "metadata": {},
     "output_type": "execute_result"
    }
   ],
   "source": [
    "len(elma)"
   ]
  },
  {
   "cell_type": "code",
   "execution_count": 301,
   "id": "07d4d87f-f6ee-41f3-b318-37937c770fba",
   "metadata": {},
   "outputs": [
    {
     "name": "stdout",
     "output_type": "stream",
     "text": [
      "elma şu kadar kaloriye sahiptir: 200\n"
     ]
    }
   ],
   "source": [
    "print(elma)"
   ]
  },
  {
   "cell_type": "code",
   "execution_count": null,
   "id": "c5080b8c-4b4e-4f20-b2f5-a86df753e87f",
   "metadata": {},
   "outputs": [],
   "source": []
  }
 ],
 "metadata": {
  "kernelspec": {
   "display_name": "Python 3 (ipykernel)",
   "language": "python",
   "name": "python3"
  },
  "language_info": {
   "codemirror_mode": {
    "name": "ipython",
    "version": 3
   },
   "file_extension": ".py",
   "mimetype": "text/x-python",
   "name": "python",
   "nbconvert_exporter": "python",
   "pygments_lexer": "ipython3",
   "version": "3.12.4"
  }
 },
 "nbformat": 4,
 "nbformat_minor": 5
}
