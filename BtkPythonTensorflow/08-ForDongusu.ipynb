{
 "cells": [
  {
   "cell_type": "code",
   "execution_count": 74,
   "id": "768cd0be-f04f-4990-837d-5ecd13c01b83",
   "metadata": {},
   "outputs": [],
   "source": [
    "benimListem = [10,20,30,40,50]"
   ]
  },
  {
   "cell_type": "code",
   "execution_count": 76,
   "id": "8ad5143b-64f5-4223-a623-42a22f04d277",
   "metadata": {},
   "outputs": [
    {
     "name": "stdout",
     "output_type": "stream",
     "text": [
      "evet içerisinde var\n"
     ]
    }
   ],
   "source": [
    "if 10 in benimListem:\n",
    "    print(\"evet içerisinde var\")"
   ]
  },
  {
   "cell_type": "code",
   "execution_count": 78,
   "id": "a77fe493-26c1-474d-9629-ac1036f8002e",
   "metadata": {},
   "outputs": [
    {
     "data": {
      "text/plain": [
       "16.666666666666668"
      ]
     },
     "execution_count": 78,
     "metadata": {},
     "output_type": "execute_result"
    }
   ],
   "source": [
    "benimListem[0] * 5 / 3"
   ]
  },
  {
   "cell_type": "code",
   "execution_count": 80,
   "id": "ca854f6b-ce8b-4523-8f31-53c85ddb3034",
   "metadata": {},
   "outputs": [
    {
     "data": {
      "text/plain": [
       "33.333333333333336"
      ]
     },
     "execution_count": 80,
     "metadata": {},
     "output_type": "execute_result"
    }
   ],
   "source": [
    "benimListem[1] * 5 / 3"
   ]
  },
  {
   "cell_type": "code",
   "execution_count": 84,
   "id": "caef307a-f2dc-4794-acee-388ccb88e6f3",
   "metadata": {},
   "outputs": [
    {
     "name": "stdout",
     "output_type": "stream",
     "text": [
      "Döngü Başladı\n",
      "10\n",
      "20\n",
      "30\n",
      "40\n",
      "50\n",
      "Döngü Bitti\n"
     ]
    }
   ],
   "source": [
    "print(\"Döngü Başladı\")\n",
    "for numara in benimListem:\n",
    "    print(numara)\n",
    "print(\"Döngü Bitti\")"
   ]
  },
  {
   "cell_type": "code",
   "execution_count": 86,
   "id": "cf14213e-2e29-4083-9276-96a1c5272c07",
   "metadata": {},
   "outputs": [
    {
     "name": "stdout",
     "output_type": "stream",
     "text": [
      "16.666666666666668\n",
      "33.333333333333336\n",
      "50.0\n",
      "66.66666666666667\n",
      "83.33333333333333\n"
     ]
    }
   ],
   "source": [
    "for num in benimListem:\n",
    "    yeniNumara = num * 5 / 3\n",
    "    print(yeniNumara)"
   ]
  },
  {
   "cell_type": "code",
   "execution_count": 88,
   "id": "29241e88-ab83-4a44-bc4e-b72d6c6fb3bf",
   "metadata": {},
   "outputs": [],
   "source": [
    "yeniListe = [1,2,3,4,5,6]"
   ]
  },
  {
   "cell_type": "code",
   "execution_count": 90,
   "id": "4a8399bf-407e-4dbe-b41f-f6a0afc57084",
   "metadata": {},
   "outputs": [
    {
     "name": "stdout",
     "output_type": "stream",
     "text": [
      "2\n",
      "4\n",
      "6\n"
     ]
    }
   ],
   "source": [
    "for rakam in yeniListe:\n",
    "    if rakam % 2 == 0:\n",
    "        print(rakam)"
   ]
  },
  {
   "cell_type": "code",
   "execution_count": 1,
   "id": "9439b98f-743d-4ce4-8acb-2ccde9173495",
   "metadata": {},
   "outputs": [],
   "source": [
    "yeniString = \"Melike Nur Çotak\""
   ]
  },
  {
   "cell_type": "code",
   "execution_count": 5,
   "id": "a9fa3446-f272-4d90-9a04-ff0acb227d7d",
   "metadata": {},
   "outputs": [
    {
     "name": "stdout",
     "output_type": "stream",
     "text": [
      "M\n",
      "e\n",
      "l\n",
      "i\n",
      "k\n",
      "e\n",
      " \n",
      "N\n",
      "u\n",
      "r\n",
      " \n",
      "Ç\n",
      "o\n",
      "t\n",
      "a\n",
      "k\n"
     ]
    }
   ],
   "source": [
    "for harf in yeniString:\n",
    "    print(harf)"
   ]
  },
  {
   "cell_type": "code",
   "execution_count": 7,
   "id": "10fbe0b4-98ef-44f6-8500-a17c6ef7be8d",
   "metadata": {},
   "outputs": [],
   "source": [
    "benimTuple = (1,2,3,4,5)"
   ]
  },
  {
   "cell_type": "code",
   "execution_count": 9,
   "id": "f845cd62-8f25-4473-879d-a1ba7a8c6cc5",
   "metadata": {},
   "outputs": [
    {
     "name": "stdout",
     "output_type": "stream",
     "text": [
      "-9\n",
      "-8\n",
      "-7\n",
      "-6\n",
      "-5\n"
     ]
    }
   ],
   "source": [
    "for eleman in benimTuple:\n",
    "    print(eleman-10)"
   ]
  },
  {
   "cell_type": "code",
   "execution_count": 11,
   "id": "1be2bc71-34c0-4422-93f0-b6506664b577",
   "metadata": {},
   "outputs": [],
   "source": [
    "kordinatListesi = [(10.2 , 15.2) , (32.4 , 16.2) , (40.2 , 20.2)]"
   ]
  },
  {
   "cell_type": "code",
   "execution_count": 13,
   "id": "de3942a2-1e0e-4d46-bcc2-f3e80d4ffe66",
   "metadata": {},
   "outputs": [
    {
     "data": {
      "text/plain": [
       "list"
      ]
     },
     "execution_count": 13,
     "metadata": {},
     "output_type": "execute_result"
    }
   ],
   "source": [
    "type(kordinatListesi)"
   ]
  },
  {
   "cell_type": "code",
   "execution_count": 15,
   "id": "8109e650-1e96-4932-908c-24ad6890b9bb",
   "metadata": {},
   "outputs": [
    {
     "name": "stdout",
     "output_type": "stream",
     "text": [
      "(10.2, 15.2)\n",
      "(32.4, 16.2)\n",
      "(40.2, 20.2)\n"
     ]
    }
   ],
   "source": [
    "for eleman in kordinatListesi:\n",
    "    print(eleman)"
   ]
  },
  {
   "cell_type": "code",
   "execution_count": 17,
   "id": "55e5c991-a5ac-4494-9712-bda78ecce43a",
   "metadata": {},
   "outputs": [
    {
     "name": "stdout",
     "output_type": "stream",
     "text": [
      "15.2\n",
      "16.2\n",
      "20.2\n"
     ]
    }
   ],
   "source": [
    "for (x,y) in kordinatListesi:\n",
    "    print(y)"
   ]
  },
  {
   "cell_type": "code",
   "execution_count": 19,
   "id": "60e87bef-de70-4259-8ced-3caf986b09ce",
   "metadata": {},
   "outputs": [],
   "source": [
    "benimGaripListem = [(1,2,3),(4,5,6),(7,8,9)]"
   ]
  },
  {
   "cell_type": "code",
   "execution_count": 21,
   "id": "44861a89-8a9d-44e6-8229-0f7ea02c1af5",
   "metadata": {},
   "outputs": [
    {
     "name": "stdout",
     "output_type": "stream",
     "text": [
      "3\n",
      "6\n",
      "9\n"
     ]
    }
   ],
   "source": [
    "for (x,y,z) in benimGaripListem:\n",
    "    print(z)"
   ]
  },
  {
   "cell_type": "code",
   "execution_count": 23,
   "id": "2184e276-1612-4de0-8118-7ada1a9f7b81",
   "metadata": {},
   "outputs": [],
   "source": [
    "benimSozluk = {\"muz\" : 150 , \"portakal\" : 250 , \"elma\" : 400}"
   ]
  },
  {
   "cell_type": "code",
   "execution_count": 25,
   "id": "91139337-be1c-4497-b000-2a002d632b58",
   "metadata": {},
   "outputs": [
    {
     "data": {
      "text/plain": [
       "dict_items([('muz', 150), ('portakal', 250), ('elma', 400)])"
      ]
     },
     "execution_count": 25,
     "metadata": {},
     "output_type": "execute_result"
    }
   ],
   "source": [
    "benimSozluk.items()"
   ]
  },
  {
   "cell_type": "code",
   "execution_count": 27,
   "id": "5b000a73-e22a-441d-824a-b0de87431d71",
   "metadata": {},
   "outputs": [
    {
     "name": "stdout",
     "output_type": "stream",
     "text": [
      "150\n",
      "250\n",
      "400\n"
     ]
    }
   ],
   "source": [
    "for (anahtar,deger) in benimSozluk.items():\n",
    "    print(deger)"
   ]
  },
  {
   "cell_type": "code",
   "execution_count": null,
   "id": "b286f70e-7c27-4fef-af08-a3e4034fb0a8",
   "metadata": {},
   "outputs": [],
   "source": []
  }
 ],
 "metadata": {
  "kernelspec": {
   "display_name": "Python 3 (ipykernel)",
   "language": "python",
   "name": "python3"
  },
  "language_info": {
   "codemirror_mode": {
    "name": "ipython",
    "version": 3
   },
   "file_extension": ".py",
   "mimetype": "text/x-python",
   "name": "python",
   "nbconvert_exporter": "python",
   "pygments_lexer": "ipython3",
   "version": "3.12.4"
  }
 },
 "nbformat": 4,
 "nbformat_minor": 5
}
