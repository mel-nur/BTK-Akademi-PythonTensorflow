{
 "cells": [
  {
   "cell_type": "markdown",
   "id": "fcb5fca6-f85e-4283-9ee8-d9f317447b52",
   "metadata": {},
   "source": [
    "# Python Öğreniyorum"
   ]
  },
  {
   "cell_type": "markdown",
   "id": "855460f0-6676-441a-a4fe-eb2e50a7f03f",
   "metadata": {},
   "source": [
    "#markdown yapıp # işaretini yapıp bir boşluk bırakarak yazdığımız şeyleri başlık yapar\n"
   ]
  },
  {
   "cell_type": "markdown",
   "id": "ece18695-d8c8-4c1f-b769-c51cce5bf71f",
   "metadata": {},
   "source": [
    "# Variables (Değişkenler)"
   ]
  },
  {
   "cell_type": "code",
   "execution_count": 10,
   "id": "c71e024b-3a75-4c29-b3ca-7988255f4ea5",
   "metadata": {},
   "outputs": [],
   "source": [
    "x = 5"
   ]
  },
  {
   "cell_type": "code",
   "execution_count": 12,
   "id": "63156ac3-21e1-4198-a7c4-a2cf24d0a679",
   "metadata": {},
   "outputs": [],
   "source": [
    "y = 4"
   ]
  },
  {
   "cell_type": "code",
   "execution_count": 20,
   "id": "56d4b566-6324-4270-b94e-6b29c1ebc61f",
   "metadata": {},
   "outputs": [
    {
     "data": {
      "text/plain": [
       "24"
      ]
     },
     "execution_count": 20,
     "metadata": {},
     "output_type": "execute_result"
    }
   ],
   "source": [
    "x * y"
   ]
  },
  {
   "cell_type": "code",
   "execution_count": 34,
   "id": "976ee980-ea4b-4dad-b452-ee69d2852a80",
   "metadata": {},
   "outputs": [
    {
     "data": {
      "text/plain": [
       "7"
      ]
     },
     "execution_count": 34,
     "metadata": {},
     "output_type": "execute_result"
    }
   ],
   "source": [
    "x"
   ]
  },
  {
   "cell_type": "code",
   "execution_count": 36,
   "id": "20284d98-9e1b-43fb-be60-e201c8d95d84",
   "metadata": {},
   "outputs": [],
   "source": [
    "x = 7"
   ]
  },
  {
   "cell_type": "code",
   "execution_count": 39,
   "id": "df5b61b0-3b6e-4a14-adf6-5b44bba6531b",
   "metadata": {},
   "outputs": [
    {
     "data": {
      "text/plain": [
       "28"
      ]
     },
     "execution_count": 39,
     "metadata": {},
     "output_type": "execute_result"
    }
   ],
   "source": [
    "x * y "
   ]
  },
  {
   "cell_type": "code",
   "execution_count": 41,
   "id": "c3bc6f0e-a5ce-4c13-8158-e37c235be8a0",
   "metadata": {},
   "outputs": [
    {
     "data": {
      "text/plain": [
       "16"
      ]
     },
     "execution_count": 41,
     "metadata": {},
     "output_type": "execute_result"
    }
   ],
   "source": [
    "y * 4"
   ]
  },
  {
   "cell_type": "markdown",
   "id": "33deb2d2-25b5-4e03-bf69-a18b3f4a74c5",
   "metadata": {},
   "source": [
    "# Integer & Float"
   ]
  },
  {
   "cell_type": "code",
   "execution_count": 5,
   "id": "3f6ebd1c-0907-4040-98f4-a6ef574d66dc",
   "metadata": {},
   "outputs": [],
   "source": [
    "benimDegiskenim = 10\n",
    "benimDigerDegiskenim = 20"
   ]
  },
  {
   "cell_type": "code",
   "execution_count": 7,
   "id": "94607e50-e99c-4915-a49e-d354d3e91cbc",
   "metadata": {},
   "outputs": [
    {
     "data": {
      "text/plain": [
       "30"
      ]
     },
     "execution_count": 7,
     "metadata": {},
     "output_type": "execute_result"
    }
   ],
   "source": [
    "benimDegiskenim + benimDigerDegiskenim"
   ]
  },
  {
   "cell_type": "code",
   "execution_count": 9,
   "id": "cc180c4b-0076-44f7-9a12-bdcb7000cd7c",
   "metadata": {},
   "outputs": [
    {
     "data": {
      "text/plain": [
       "int"
      ]
     },
     "execution_count": 9,
     "metadata": {},
     "output_type": "execute_result"
    }
   ],
   "source": [
    "type(benimDegiskenim)"
   ]
  },
  {
   "cell_type": "code",
   "execution_count": 11,
   "id": "9d1bd40f-870f-4422-a59b-b6ef41d7d8d3",
   "metadata": {},
   "outputs": [],
   "source": [
    "sonuc = benimDigerDegiskenim / benimDegiskenim"
   ]
  },
  {
   "cell_type": "code",
   "execution_count": 13,
   "id": "c739b9f0-b64a-473b-9463-8aef301e8ad7",
   "metadata": {},
   "outputs": [
    {
     "data": {
      "text/plain": [
       "float"
      ]
     },
     "execution_count": 13,
     "metadata": {},
     "output_type": "execute_result"
    }
   ],
   "source": [
    "type(sonuc)"
   ]
  },
  {
   "cell_type": "code",
   "execution_count": 15,
   "id": "955bd33b-db2d-49c5-9b74-d8ee44d40eff",
   "metadata": {},
   "outputs": [],
   "source": [
    "a = 3\n",
    "b = 2"
   ]
  },
  {
   "cell_type": "code",
   "execution_count": 17,
   "id": "d94dd2bb-5fe1-43e7-bd61-1b17fc40decb",
   "metadata": {},
   "outputs": [
    {
     "data": {
      "text/plain": [
       "1.5"
      ]
     },
     "execution_count": 17,
     "metadata": {},
     "output_type": "execute_result"
    }
   ],
   "source": [
    "a / b"
   ]
  },
  {
   "cell_type": "code",
   "execution_count": 19,
   "id": "5f198893-58a5-4297-b17e-57d84833e29b",
   "metadata": {},
   "outputs": [],
   "source": [
    "pi = 3.14"
   ]
  },
  {
   "cell_type": "code",
   "execution_count": 21,
   "id": "a91ca4d3-0b1d-4234-a557-84ebbb14ff6a",
   "metadata": {},
   "outputs": [
    {
     "data": {
      "text/plain": [
       "float"
      ]
     },
     "execution_count": 21,
     "metadata": {},
     "output_type": "execute_result"
    }
   ],
   "source": [
    "type(pi)"
   ]
  },
  {
   "cell_type": "code",
   "execution_count": 23,
   "id": "00d790dc-551a-4e69-ad4e-8960497c1069",
   "metadata": {},
   "outputs": [],
   "source": [
    "a = 5"
   ]
  },
  {
   "cell_type": "code",
   "execution_count": 25,
   "id": "9aa07acf-4e78-4611-bb78-2c24ea211f83",
   "metadata": {},
   "outputs": [
    {
     "data": {
      "text/plain": [
       "int"
      ]
     },
     "execution_count": 25,
     "metadata": {},
     "output_type": "execute_result"
    }
   ],
   "source": [
    "type(a)"
   ]
  },
  {
   "cell_type": "code",
   "execution_count": 27,
   "id": "a13df2f8-0650-4d83-a1ce-21a7ab68fe87",
   "metadata": {},
   "outputs": [
    {
     "data": {
      "text/plain": [
       "1.592356687898089"
      ]
     },
     "execution_count": 27,
     "metadata": {},
     "output_type": "execute_result"
    }
   ],
   "source": [
    "a / pi"
   ]
  },
  {
   "cell_type": "code",
   "execution_count": 29,
   "id": "dc4469f6-4836-467e-bda4-0e9cd8180642",
   "metadata": {},
   "outputs": [],
   "source": [
    "a = 5\n",
    "b = 4"
   ]
  },
  {
   "cell_type": "code",
   "execution_count": 31,
   "id": "1668099b-0b10-4df0-8a86-c3bd47db50c0",
   "metadata": {},
   "outputs": [],
   "source": [
    "sonuc = a + b"
   ]
  },
  {
   "cell_type": "code",
   "execution_count": 33,
   "id": "60f2a924-36d0-4493-b8ef-45b6718cdf52",
   "metadata": {},
   "outputs": [
    {
     "data": {
      "text/plain": [
       "int"
      ]
     },
     "execution_count": 33,
     "metadata": {},
     "output_type": "execute_result"
    }
   ],
   "source": [
    "type(sonuc)"
   ]
  },
  {
   "cell_type": "code",
   "execution_count": 35,
   "id": "4b7aa364-377e-4599-8d47-e6eab098af73",
   "metadata": {},
   "outputs": [],
   "source": [
    "sonuc = a * b"
   ]
  },
  {
   "cell_type": "code",
   "execution_count": 37,
   "id": "0be53b06-cb20-4e86-a118-db5b218becfb",
   "metadata": {},
   "outputs": [
    {
     "data": {
      "text/plain": [
       "int"
      ]
     },
     "execution_count": 37,
     "metadata": {},
     "output_type": "execute_result"
    }
   ],
   "source": [
    "type(sonuc)"
   ]
  },
  {
   "cell_type": "markdown",
   "id": "b2d7fa34-5733-44cb-b855-ae6bd960d67e",
   "metadata": {},
   "source": [
    "# Matematiksel İşlemler"
   ]
  },
  {
   "cell_type": "code",
   "execution_count": 41,
   "id": "8857ec28-6eea-4309-9255-7d2ea2145e67",
   "metadata": {},
   "outputs": [],
   "source": [
    "x = 5\n",
    "y = 3"
   ]
  },
  {
   "cell_type": "code",
   "execution_count": 43,
   "id": "41fd412b-6507-4ed1-a2b5-a6e4a6fbed39",
   "metadata": {},
   "outputs": [
    {
     "data": {
      "text/plain": [
       "150"
      ]
     },
     "execution_count": 43,
     "metadata": {},
     "output_type": "execute_result"
    }
   ],
   "source": [
    "x * y * 10"
   ]
  },
  {
   "cell_type": "code",
   "execution_count": 45,
   "id": "bd8073e9-c1b7-41c6-be12-a3484a3ed258",
   "metadata": {},
   "outputs": [
    {
     "data": {
      "text/plain": [
       "625"
      ]
     },
     "execution_count": 45,
     "metadata": {},
     "output_type": "execute_result"
    }
   ],
   "source": [
    "x * x * x * x"
   ]
  },
  {
   "cell_type": "code",
   "execution_count": 47,
   "id": "bc32a503-8e8b-422b-9add-ea1574823b05",
   "metadata": {},
   "outputs": [
    {
     "data": {
      "text/plain": [
       "0"
      ]
     },
     "execution_count": 47,
     "metadata": {},
     "output_type": "execute_result"
    }
   ],
   "source": [
    "#Remainder - Kalanını Bulmak\n",
    "10 % 2"
   ]
  },
  {
   "cell_type": "code",
   "execution_count": 49,
   "id": "6e489376-458f-4f74-b49b-275296a6e0b5",
   "metadata": {},
   "outputs": [
    {
     "data": {
      "text/plain": [
       "1"
      ]
     },
     "execution_count": 49,
     "metadata": {},
     "output_type": "execute_result"
    }
   ],
   "source": [
    "11 % 2"
   ]
  },
  {
   "cell_type": "code",
   "execution_count": 51,
   "id": "2d376b62-a434-47a2-a3f1-bec3a26155ed",
   "metadata": {},
   "outputs": [
    {
     "data": {
      "text/plain": [
       "2"
      ]
     },
     "execution_count": 51,
     "metadata": {},
     "output_type": "execute_result"
    }
   ],
   "source": [
    "11 % 3"
   ]
  },
  {
   "cell_type": "code",
   "execution_count": 65,
   "id": "e5279184-e6cf-4afe-b36c-cd17dfd21e66",
   "metadata": {},
   "outputs": [],
   "source": [
    "kullanicininYasi = 10"
   ]
  },
  {
   "cell_type": "code",
   "execution_count": 67,
   "id": "68a1684f-b639-4d0d-a136-7266cbc2048e",
   "metadata": {},
   "outputs": [],
   "source": [
    "# camelCase  snake_case"
   ]
  },
  {
   "cell_type": "code",
   "execution_count": 69,
   "id": "04a8fc9e-f55e-459f-903d-b0ce77b8f997",
   "metadata": {},
   "outputs": [
    {
     "data": {
      "text/plain": [
       "16.666666666666668"
      ]
     },
     "execution_count": 69,
     "metadata": {},
     "output_type": "execute_result"
    }
   ],
   "source": [
    "kullanicininYasi * 5 / 3"
   ]
  },
  {
   "cell_type": "code",
   "execution_count": 73,
   "id": "9fd1b8f1-2c3c-4be9-92a9-2d0c91f37b2b",
   "metadata": {},
   "outputs": [
    {
     "name": "stdin",
     "output_type": "stream",
     "text": [
      "Yaşınızı Giriniz :  40\n"
     ]
    }
   ],
   "source": [
    "kullanicininYasi = input(\"Yaşınızı Giriniz : \")"
   ]
  },
  {
   "cell_type": "code",
   "execution_count": 75,
   "id": "5ca466a7-9fd3-47a1-8bf8-f6c9fc8adb6d",
   "metadata": {},
   "outputs": [
    {
     "data": {
      "text/plain": [
       "'40'"
      ]
     },
     "execution_count": 75,
     "metadata": {},
     "output_type": "execute_result"
    }
   ],
   "source": [
    "kullanicininYasi"
   ]
  },
  {
   "cell_type": "code",
   "execution_count": 77,
   "id": "80074b15-6316-4b27-8946-7ddfa8c044a4",
   "metadata": {},
   "outputs": [
    {
     "data": {
      "text/plain": [
       "str"
      ]
     },
     "execution_count": 77,
     "metadata": {},
     "output_type": "execute_result"
    }
   ],
   "source": [
    "type(kullanicininYasi)"
   ]
  },
  {
   "cell_type": "code",
   "execution_count": 79,
   "id": "f828e188-75a6-430e-86c8-71cd5dd1c717",
   "metadata": {},
   "outputs": [
    {
     "data": {
      "text/plain": [
       "'4040404040'"
      ]
     },
     "execution_count": 79,
     "metadata": {},
     "output_type": "execute_result"
    }
   ],
   "source": [
    "kullanicininYasi * 5"
   ]
  },
  {
   "cell_type": "markdown",
   "id": "c678b08a-b2e9-48a5-bc5b-53204ddad7e2",
   "metadata": {},
   "source": [
    "# String"
   ]
  },
  {
   "cell_type": "code",
   "execution_count": 2,
   "id": "3834726f-60ae-4311-b77a-d072320c1e19",
   "metadata": {},
   "outputs": [
    {
     "data": {
      "text/plain": [
       "'merhaba dünya'"
      ]
     },
     "execution_count": 2,
     "metadata": {},
     "output_type": "execute_result"
    }
   ],
   "source": [
    "\"merhaba dünya\""
   ]
  },
  {
   "cell_type": "code",
   "execution_count": 4,
   "id": "1bd95ce0-38ab-4a38-b989-367475a7c8f4",
   "metadata": {},
   "outputs": [],
   "source": [
    "x = \"Merhaba dünya\""
   ]
  },
  {
   "cell_type": "code",
   "execution_count": 8,
   "id": "7d1f836c-7794-46af-baae-46fe8a7b7976",
   "metadata": {},
   "outputs": [
    {
     "data": {
      "text/plain": [
       "str"
      ]
     },
     "execution_count": 8,
     "metadata": {},
     "output_type": "execute_result"
    }
   ],
   "source": [
    "type(x)"
   ]
  },
  {
   "cell_type": "code",
   "execution_count": 10,
   "id": "02a15bef-a407-44cf-b8af-7e9cf23d9426",
   "metadata": {},
   "outputs": [],
   "source": [
    "y = \"yeni string\""
   ]
  },
  {
   "cell_type": "code",
   "execution_count": 12,
   "id": "085d8981-76a8-4b2a-aa30-2a70c4890ff4",
   "metadata": {},
   "outputs": [
    {
     "data": {
      "text/plain": [
       "str"
      ]
     },
     "execution_count": 12,
     "metadata": {},
     "output_type": "execute_result"
    }
   ],
   "source": [
    "type(y)"
   ]
  },
  {
   "cell_type": "code",
   "execution_count": 14,
   "id": "1cc04e1c-0ec9-4bec-848d-9f32faec3265",
   "metadata": {},
   "outputs": [
    {
     "data": {
      "text/plain": [
       "['yeni', 'string']"
      ]
     },
     "execution_count": 14,
     "metadata": {},
     "output_type": "execute_result"
    }
   ],
   "source": [
    "y.split()"
   ]
  },
  {
   "cell_type": "code",
   "execution_count": 17,
   "id": "25380dd5-d77e-4985-9172-87abc4183a16",
   "metadata": {},
   "outputs": [
    {
     "data": {
      "text/plain": [
       "'yeni string'"
      ]
     },
     "execution_count": 17,
     "metadata": {},
     "output_type": "execute_result"
    }
   ],
   "source": [
    "y"
   ]
  },
  {
   "cell_type": "code",
   "execution_count": 1,
   "id": "3fd8d82d-b816-4b13-bb9b-ed5295c023c6",
   "metadata": {},
   "outputs": [],
   "source": [
    "benimString = \"Melike Çotak\""
   ]
  },
  {
   "cell_type": "code",
   "execution_count": 3,
   "id": "62c5fddf-e248-4cb3-9f09-2f95ff69547d",
   "metadata": {},
   "outputs": [
    {
     "name": "stdin",
     "output_type": "stream",
     "text": [
      "Yaşınızı Giriniz :  33\n"
     ]
    }
   ],
   "source": [
    "benimInput = input(\"Yaşınızı Giriniz : \")"
   ]
  },
  {
   "cell_type": "code",
   "execution_count": 5,
   "id": "75ce5820-00a8-4855-b5be-64351bff5ab6",
   "metadata": {},
   "outputs": [
    {
     "data": {
      "text/plain": [
       "str"
      ]
     },
     "execution_count": 5,
     "metadata": {},
     "output_type": "execute_result"
    }
   ],
   "source": [
    "type(benimInput)"
   ]
  },
  {
   "cell_type": "code",
   "execution_count": 7,
   "id": "e76fa60a-28aa-4137-bbfb-377744931c64",
   "metadata": {},
   "outputs": [],
   "source": [
    "benimIntInput = int(benimInput)"
   ]
  },
  {
   "cell_type": "code",
   "execution_count": 9,
   "id": "513e2f83-01e0-4c70-8999-defa3d794bcf",
   "metadata": {},
   "outputs": [
    {
     "data": {
      "text/plain": [
       "55.0"
      ]
     },
     "execution_count": 9,
     "metadata": {},
     "output_type": "execute_result"
    }
   ],
   "source": [
    "benimIntInput / 3 * 5"
   ]
  },
  {
   "cell_type": "code",
   "execution_count": 11,
   "id": "0f6d951d-ca83-4af5-b4da-305a235799b2",
   "metadata": {},
   "outputs": [
    {
     "data": {
      "text/plain": [
       "int"
      ]
     },
     "execution_count": 11,
     "metadata": {},
     "output_type": "execute_result"
    }
   ],
   "source": [
    "type(benimIntInput)"
   ]
  },
  {
   "cell_type": "code",
   "execution_count": 13,
   "id": "c19c89ea-97c2-4e6c-a72a-77d439d41628",
   "metadata": {},
   "outputs": [],
   "source": [
    "m = \"çotak\""
   ]
  },
  {
   "cell_type": "code",
   "execution_count": 15,
   "id": "1370fa96-e72d-47b9-b42f-71ca88b4e517",
   "metadata": {},
   "outputs": [
    {
     "data": {
      "text/plain": [
       "5"
      ]
     },
     "execution_count": 15,
     "metadata": {},
     "output_type": "execute_result"
    }
   ],
   "source": [
    "len(m) #length"
   ]
  },
  {
   "cell_type": "code",
   "execution_count": 17,
   "id": "1dc7289c-0379-434a-a9c8-f466f08e199f",
   "metadata": {},
   "outputs": [
    {
     "name": "stdout",
     "output_type": "stream",
     "text": [
      "merhaba \n",
      "dünya\n"
     ]
    }
   ],
   "source": [
    "print(\"merhaba \\ndünya\")"
   ]
  },
  {
   "cell_type": "markdown",
   "id": "d7666e2e-1d99-4258-b932-2ed93405c04d",
   "metadata": {},
   "source": [
    "# Index"
   ]
  },
  {
   "cell_type": "code",
   "execution_count": 20,
   "id": "b65f1eb8-949b-4d10-bbb6-159b04e3dc88",
   "metadata": {},
   "outputs": [],
   "source": [
    "isimString = \"Melike Çotak\""
   ]
  },
  {
   "cell_type": "code",
   "execution_count": 22,
   "id": "8348e7cb-a29a-4343-837c-eef3ec441d82",
   "metadata": {},
   "outputs": [
    {
     "data": {
      "text/plain": [
       "'M'"
      ]
     },
     "execution_count": 22,
     "metadata": {},
     "output_type": "execute_result"
    }
   ],
   "source": [
    "isimString[0]"
   ]
  },
  {
   "cell_type": "code",
   "execution_count": 24,
   "id": "e0b7d091-bbe8-4ae1-9633-4c9848aa4ad3",
   "metadata": {},
   "outputs": [
    {
     "data": {
      "text/plain": [
       "'Ç'"
      ]
     },
     "execution_count": 24,
     "metadata": {},
     "output_type": "execute_result"
    }
   ],
   "source": [
    "isimString[7]"
   ]
  },
  {
   "cell_type": "code",
   "execution_count": 26,
   "id": "00460637-c3bc-4fe1-baec-41e5f0c81678",
   "metadata": {},
   "outputs": [
    {
     "data": {
      "text/plain": [
       "' '"
      ]
     },
     "execution_count": 26,
     "metadata": {},
     "output_type": "execute_result"
    }
   ],
   "source": [
    "isimString[6]"
   ]
  },
  {
   "cell_type": "code",
   "execution_count": 28,
   "id": "9f2784ec-200b-41f0-838b-5428a7c7d1db",
   "metadata": {},
   "outputs": [
    {
     "data": {
      "text/plain": [
       "'k'"
      ]
     },
     "execution_count": 28,
     "metadata": {},
     "output_type": "execute_result"
    }
   ],
   "source": [
    "isimString[-1]"
   ]
  },
  {
   "cell_type": "code",
   "execution_count": 30,
   "id": "5b812607-3b78-4230-86aa-b3371b41faa2",
   "metadata": {},
   "outputs": [
    {
     "data": {
      "text/plain": [
       "'Mk'"
      ]
     },
     "execution_count": 30,
     "metadata": {},
     "output_type": "execute_result"
    }
   ],
   "source": [
    "isimString[0] + isimString[-1]"
   ]
  },
  {
   "cell_type": "code",
   "execution_count": 32,
   "id": "2b4d3472-c3f5-489d-b785-f48c153d4f06",
   "metadata": {},
   "outputs": [],
   "source": [
    "yeniString = \"0123456789\""
   ]
  },
  {
   "cell_type": "code",
   "execution_count": 34,
   "id": "6a00b3fb-71e2-4c7e-8468-dbb440441557",
   "metadata": {},
   "outputs": [
    {
     "data": {
      "text/plain": [
       "'23456789'"
      ]
     },
     "execution_count": 34,
     "metadata": {},
     "output_type": "execute_result"
    }
   ],
   "source": [
    "yeniString[2:]"
   ]
  },
  {
   "cell_type": "code",
   "execution_count": 36,
   "id": "dfc6e73f-eb2e-48e6-97ac-b405a24664b1",
   "metadata": {},
   "outputs": [],
   "source": [
    "harfString = \"abcdefgh\""
   ]
  },
  {
   "cell_type": "code",
   "execution_count": 38,
   "id": "9f9043cd-dc16-46d6-b3e9-11924987331f",
   "metadata": {},
   "outputs": [
    {
     "data": {
      "text/plain": [
       "'defgh'"
      ]
     },
     "execution_count": 38,
     "metadata": {},
     "output_type": "execute_result"
    }
   ],
   "source": [
    "harfString[3:]"
   ]
  },
  {
   "cell_type": "code",
   "execution_count": 40,
   "id": "03c51b19-4de6-4df8-8b14-6e89b876d103",
   "metadata": {},
   "outputs": [
    {
     "data": {
      "text/plain": [
       "'abc'"
      ]
     },
     "execution_count": 40,
     "metadata": {},
     "output_type": "execute_result"
    }
   ],
   "source": [
    "harfString[:3]"
   ]
  },
  {
   "cell_type": "markdown",
   "id": "79b23550-4f4c-472e-aee5-c807461faa56",
   "metadata": {},
   "source": [
    "# Slicing"
   ]
  },
  {
   "cell_type": "code",
   "execution_count": 43,
   "id": "8de2d3da-e0f0-47bb-b43e-6ac783c06788",
   "metadata": {},
   "outputs": [],
   "source": [
    "gelenVeri = \"AhmetinYasi65\""
   ]
  },
  {
   "cell_type": "code",
   "execution_count": 45,
   "id": "73d4974e-b808-4e40-aedb-9f5f8316a8b4",
   "metadata": {},
   "outputs": [
    {
     "data": {
      "text/plain": [
       "'me'"
      ]
     },
     "execution_count": 45,
     "metadata": {},
     "output_type": "execute_result"
    }
   ],
   "source": [
    "gelenVeri[2:4]"
   ]
  },
  {
   "cell_type": "code",
   "execution_count": 47,
   "id": "17a604b7-ee3f-441f-9d37-c323a24c8755",
   "metadata": {},
   "outputs": [],
   "source": [
    "#Step size"
   ]
  },
  {
   "cell_type": "code",
   "execution_count": 49,
   "id": "f5d5102c-daef-47a5-b02e-e33fc760454e",
   "metadata": {},
   "outputs": [
    {
     "data": {
      "text/plain": [
       "'htY'"
      ]
     },
     "execution_count": 49,
     "metadata": {},
     "output_type": "execute_result"
    }
   ],
   "source": [
    "gelenVeri[1:10:3]"
   ]
  },
  {
   "cell_type": "code",
   "execution_count": 51,
   "id": "48731636-11a1-465b-80e2-5626cf7cbc19",
   "metadata": {},
   "outputs": [
    {
     "data": {
      "text/plain": [
       "'56isaYnitemhA'"
      ]
     },
     "execution_count": 51,
     "metadata": {},
     "output_type": "execute_result"
    }
   ],
   "source": [
    "gelenVeri[::-1]"
   ]
  },
  {
   "cell_type": "code",
   "execution_count": 59,
   "id": "9756ed38-3d2c-4eff-8dd0-067ea895f1f4",
   "metadata": {},
   "outputs": [],
   "source": [
    "benimIsmim = \"melike\""
   ]
  },
  {
   "cell_type": "code",
   "execution_count": 61,
   "id": "c87cc836-2d7a-42dd-aabf-b0ac128d5c73",
   "metadata": {},
   "outputs": [
    {
     "data": {
      "text/plain": [
       "'Melike'"
      ]
     },
     "execution_count": 61,
     "metadata": {},
     "output_type": "execute_result"
    }
   ],
   "source": [
    "benimIsmim.capitalize()"
   ]
  },
  {
   "cell_type": "code",
   "execution_count": 63,
   "id": "931436b1-47ca-4549-b4dd-66fc1852f056",
   "metadata": {},
   "outputs": [
    {
     "data": {
      "text/plain": [
       "'melike'"
      ]
     },
     "execution_count": 63,
     "metadata": {},
     "output_type": "execute_result"
    }
   ],
   "source": [
    "benimIsmim"
   ]
  },
  {
   "cell_type": "code",
   "execution_count": 65,
   "id": "7dcac1de-16be-4f9b-8103-f5d9a159adf0",
   "metadata": {},
   "outputs": [],
   "source": [
    "benimYeniIsmim = benimIsmim.capitalize()"
   ]
  },
  {
   "cell_type": "code",
   "execution_count": 67,
   "id": "fae69942-2097-4e73-821c-088cf48c5a91",
   "metadata": {},
   "outputs": [
    {
     "data": {
      "text/plain": [
       "'Melike'"
      ]
     },
     "execution_count": 67,
     "metadata": {},
     "output_type": "execute_result"
    }
   ],
   "source": [
    "benimYeniIsmim"
   ]
  },
  {
   "cell_type": "code",
   "execution_count": 69,
   "id": "f3e07bb1-016f-46f8-8142-08cfbc2e6c36",
   "metadata": {},
   "outputs": [
    {
     "data": {
      "text/plain": [
       "'melike'"
      ]
     },
     "execution_count": 69,
     "metadata": {},
     "output_type": "execute_result"
    }
   ],
   "source": [
    "benimIsmim"
   ]
  },
  {
   "cell_type": "code",
   "execution_count": 71,
   "id": "a65f7860-dd27-4228-be4d-af1265d0f343",
   "metadata": {},
   "outputs": [],
   "source": [
    "benimTamIsmim = \"Melike Çotak\""
   ]
  },
  {
   "cell_type": "code",
   "execution_count": 73,
   "id": "0068645d-1571-4c69-99f8-fb305ed60496",
   "metadata": {},
   "outputs": [
    {
     "data": {
      "text/plain": [
       "['Melike', 'Çotak']"
      ]
     },
     "execution_count": 73,
     "metadata": {},
     "output_type": "execute_result"
    }
   ],
   "source": [
    "benimTamIsmim.split()"
   ]
  },
  {
   "cell_type": "code",
   "execution_count": 75,
   "id": "c21ae7c1-2fe7-4835-90da-8456fd580435",
   "metadata": {},
   "outputs": [
    {
     "data": {
      "text/plain": [
       "'MELIKE ÇOTAK'"
      ]
     },
     "execution_count": 75,
     "metadata": {},
     "output_type": "execute_result"
    }
   ],
   "source": [
    "benimTamIsmim.upper()"
   ]
  },
  {
   "cell_type": "code",
   "execution_count": 77,
   "id": "2cc5b9db-9ebc-4937-bd5c-1ff10e60bec8",
   "metadata": {},
   "outputs": [
    {
     "data": {
      "text/plain": [
       "'melikemelikemelikemelikemelikemelikemelikemelikemelikemelike'"
      ]
     },
     "execution_count": 77,
     "metadata": {},
     "output_type": "execute_result"
    }
   ],
   "source": [
    "benimIsmim * 10"
   ]
  },
  {
   "cell_type": "code",
   "execution_count": 79,
   "id": "4e87ef11-9edf-416e-8c8d-558361bf9b2e",
   "metadata": {},
   "outputs": [
    {
     "data": {
      "text/plain": [
       "'melike dır'"
      ]
     },
     "execution_count": 79,
     "metadata": {},
     "output_type": "execute_result"
    }
   ],
   "source": [
    "benimIsmim + \" dır\""
   ]
  },
  {
   "cell_type": "code",
   "execution_count": 87,
   "id": "0e0a4084-3e63-4a2d-8954-55bdb36fb492",
   "metadata": {},
   "outputs": [],
   "source": [
    "benimSoyismim = \"çotak\""
   ]
  },
  {
   "cell_type": "code",
   "execution_count": 89,
   "id": "c5663244-97c2-486f-8dad-03aea2c1f87b",
   "metadata": {},
   "outputs": [
    {
     "data": {
      "text/plain": [
       "'melike çotak'"
      ]
     },
     "execution_count": 89,
     "metadata": {},
     "output_type": "execute_result"
    }
   ],
   "source": [
    "benimIsmim + \" \" + benimSoyismim"
   ]
  },
  {
   "cell_type": "code",
   "execution_count": 91,
   "id": "16f986e3-efc3-420d-be03-6baaab3f2f22",
   "metadata": {},
   "outputs": [
    {
     "data": {
      "text/plain": [
       "'510'"
      ]
     },
     "execution_count": 91,
     "metadata": {},
     "output_type": "execute_result"
    }
   ],
   "source": [
    "j = \"5\"\n",
    "k = \"10\"\n",
    "j + k"
   ]
  },
  {
   "cell_type": "code",
   "execution_count": null,
   "id": "2ca9811a-e47a-4dcf-a79b-1f5a75226aea",
   "metadata": {},
   "outputs": [],
   "source": []
  },
  {
   "cell_type": "code",
   "execution_count": null,
   "id": "5015ad17-271c-424f-ba77-ad746c5a80ba",
   "metadata": {},
   "outputs": [],
   "source": []
  }
 ],
 "metadata": {
  "kernelspec": {
   "display_name": "Python 3 (ipykernel)",
   "language": "python",
   "name": "python3"
  },
  "language_info": {
   "codemirror_mode": {
    "name": "ipython",
    "version": 3
   },
   "file_extension": ".py",
   "mimetype": "text/x-python",
   "name": "python",
   "nbconvert_exporter": "python",
   "pygments_lexer": "ipython3",
   "version": "3.12.4"
  }
 },
 "nbformat": 4,
 "nbformat_minor": 5
}
