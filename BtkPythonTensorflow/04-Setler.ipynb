{
 "cells": [
  {
   "cell_type": "code",
   "execution_count": 51,
   "id": "f3294bf1-58eb-494c-9c6c-8f9e18842642",
   "metadata": {},
   "outputs": [],
   "source": [
    "benimListem = [1,2,3,1,2,3]"
   ]
  },
  {
   "cell_type": "code",
   "execution_count": 53,
   "id": "d9d53c56-6684-42d7-a2dc-3d491c21d2c8",
   "metadata": {},
   "outputs": [
    {
     "data": {
      "text/plain": [
       "[1, 2, 3, 1, 2, 3]"
      ]
     },
     "execution_count": 53,
     "metadata": {},
     "output_type": "execute_result"
    }
   ],
   "source": [
    "benimListem"
   ]
  },
  {
   "cell_type": "code",
   "execution_count": 55,
   "id": "84b6a63f-d6c1-4c6b-9567-0c5f2b3339d2",
   "metadata": {},
   "outputs": [],
   "source": [
    "benimListeSetim = set(benimListem)"
   ]
  },
  {
   "cell_type": "code",
   "execution_count": 57,
   "id": "37aca650-fbf2-4e38-a7b1-e0ff8755e075",
   "metadata": {},
   "outputs": [
    {
     "data": {
      "text/plain": [
       "list"
      ]
     },
     "execution_count": 57,
     "metadata": {},
     "output_type": "execute_result"
    }
   ],
   "source": [
    "type(benimListem)"
   ]
  },
  {
   "cell_type": "code",
   "execution_count": 59,
   "id": "461d4324-ca55-4d30-a136-18bfd9ee466d",
   "metadata": {},
   "outputs": [
    {
     "data": {
      "text/plain": [
       "set"
      ]
     },
     "execution_count": 59,
     "metadata": {},
     "output_type": "execute_result"
    }
   ],
   "source": [
    "type(benimListeSetim)"
   ]
  },
  {
   "cell_type": "code",
   "execution_count": 61,
   "id": "cc06b708-e4bb-4eae-9065-02a143032872",
   "metadata": {},
   "outputs": [
    {
     "data": {
      "text/plain": [
       "{1, 2, 3}"
      ]
     },
     "execution_count": 61,
     "metadata": {},
     "output_type": "execute_result"
    }
   ],
   "source": [
    "benimListeSetim"
   ]
  },
  {
   "cell_type": "code",
   "execution_count": 63,
   "id": "9135ca5c-c423-4640-8ec4-33e1de62f5a0",
   "metadata": {},
   "outputs": [],
   "source": [
    "benimSet = {\"a\",\"b\",\"c\",\"a\"}"
   ]
  },
  {
   "cell_type": "code",
   "execution_count": 65,
   "id": "c1794af9-87bc-42d7-a2d7-3ddab06e588c",
   "metadata": {},
   "outputs": [
    {
     "data": {
      "text/plain": [
       "set"
      ]
     },
     "execution_count": 65,
     "metadata": {},
     "output_type": "execute_result"
    }
   ],
   "source": [
    "type(benimSet)"
   ]
  },
  {
   "cell_type": "code",
   "execution_count": 67,
   "id": "5217e96c-2caa-4606-b767-5f836f70562f",
   "metadata": {},
   "outputs": [
    {
     "data": {
      "text/plain": [
       "{'a', 'b', 'c'}"
      ]
     },
     "execution_count": 67,
     "metadata": {},
     "output_type": "execute_result"
    }
   ],
   "source": [
    "benimSet"
   ]
  },
  {
   "cell_type": "code",
   "execution_count": 69,
   "id": "49efd40f-f8b4-4e0c-97ce-1c6f9c6f3e7a",
   "metadata": {},
   "outputs": [],
   "source": [
    "bosListe = []"
   ]
  },
  {
   "cell_type": "code",
   "execution_count": 71,
   "id": "f3b6608a-c10d-4a32-93ea-a83a041be878",
   "metadata": {},
   "outputs": [
    {
     "data": {
      "text/plain": [
       "list"
      ]
     },
     "execution_count": 71,
     "metadata": {},
     "output_type": "execute_result"
    }
   ],
   "source": [
    "type(bosListe)"
   ]
  },
  {
   "cell_type": "code",
   "execution_count": 73,
   "id": "3cd204ac-f662-4375-9d06-10f848691d4a",
   "metadata": {},
   "outputs": [
    {
     "data": {
      "text/plain": [
       "[]"
      ]
     },
     "execution_count": 73,
     "metadata": {},
     "output_type": "execute_result"
    }
   ],
   "source": [
    "bosListe"
   ]
  },
  {
   "cell_type": "code",
   "execution_count": 75,
   "id": "d3eb13f0-7bd9-49ad-9f57-205b41e27f57",
   "metadata": {},
   "outputs": [],
   "source": [
    "bosListe.append(1)"
   ]
  },
  {
   "cell_type": "code",
   "execution_count": 77,
   "id": "4916bfdd-0f3b-4fd5-a5a1-feac1d34987a",
   "metadata": {},
   "outputs": [
    {
     "data": {
      "text/plain": [
       "[1]"
      ]
     },
     "execution_count": 77,
     "metadata": {},
     "output_type": "execute_result"
    }
   ],
   "source": [
    "bosListe"
   ]
  },
  {
   "cell_type": "code",
   "execution_count": 79,
   "id": "69994d44-f6b2-4b03-b133-0b4c2de8bda5",
   "metadata": {},
   "outputs": [],
   "source": [
    "bosSozluk = {}"
   ]
  },
  {
   "cell_type": "code",
   "execution_count": 81,
   "id": "a3cb1b16-503b-4f1c-88c5-081e5cad9424",
   "metadata": {},
   "outputs": [
    {
     "data": {
      "text/plain": [
       "dict"
      ]
     },
     "execution_count": 81,
     "metadata": {},
     "output_type": "execute_result"
    }
   ],
   "source": [
    "type(bosSozluk)"
   ]
  },
  {
   "cell_type": "code",
   "execution_count": 83,
   "id": "da863b87-8b4b-4e2b-afc8-8bf190198cdd",
   "metadata": {},
   "outputs": [],
   "source": [
    "bosSozluk[\"anahtarKelime\"] = 10"
   ]
  },
  {
   "cell_type": "code",
   "execution_count": 85,
   "id": "710ceab6-a30a-48f3-a10a-8c794876c5a6",
   "metadata": {},
   "outputs": [
    {
     "data": {
      "text/plain": [
       "{'anahtarKelime': 10}"
      ]
     },
     "execution_count": 85,
     "metadata": {},
     "output_type": "execute_result"
    }
   ],
   "source": [
    "bosSozluk"
   ]
  },
  {
   "cell_type": "code",
   "execution_count": 87,
   "id": "dd144469-99b2-4d89-a113-3a7366e4077f",
   "metadata": {},
   "outputs": [],
   "source": [
    "benimBosSetim = set()"
   ]
  },
  {
   "cell_type": "code",
   "execution_count": 89,
   "id": "9915817a-7cf3-4f4f-a3e4-70d941390bff",
   "metadata": {},
   "outputs": [
    {
     "data": {
      "text/plain": [
       "set()"
      ]
     },
     "execution_count": 89,
     "metadata": {},
     "output_type": "execute_result"
    }
   ],
   "source": [
    "benimBosSetim"
   ]
  },
  {
   "cell_type": "code",
   "execution_count": 91,
   "id": "df257725-b33d-4012-9a39-9b6782163358",
   "metadata": {},
   "outputs": [],
   "source": [
    "benimBosSetim.add(10)"
   ]
  },
  {
   "cell_type": "code",
   "execution_count": 93,
   "id": "a1df8b31-3b60-4d2e-9a7c-e0938fabfa29",
   "metadata": {},
   "outputs": [],
   "source": [
    "benimBosSetim.add(10)"
   ]
  },
  {
   "cell_type": "code",
   "execution_count": 95,
   "id": "7694faf7-9379-4936-b307-20152962859e",
   "metadata": {},
   "outputs": [],
   "source": [
    "benimBosSetim.add(20)"
   ]
  },
  {
   "cell_type": "code",
   "execution_count": 97,
   "id": "6ea754c7-0c90-4b5f-b54b-4111625c5dd8",
   "metadata": {},
   "outputs": [
    {
     "data": {
      "text/plain": [
       "{10, 20}"
      ]
     },
     "execution_count": 97,
     "metadata": {},
     "output_type": "execute_result"
    }
   ],
   "source": [
    "benimBosSetim"
   ]
  },
  {
   "cell_type": "code",
   "execution_count": 99,
   "id": "b33e654e-ee92-4c50-9036-452a0c9a48bb",
   "metadata": {},
   "outputs": [],
   "source": [
    "benimBosListem = list()"
   ]
  },
  {
   "cell_type": "code",
   "execution_count": 101,
   "id": "8f0a6588-1d10-4d04-a69d-6f6e385f71e6",
   "metadata": {},
   "outputs": [
    {
     "data": {
      "text/plain": [
       "[]"
      ]
     },
     "execution_count": 101,
     "metadata": {},
     "output_type": "execute_result"
    }
   ],
   "source": [
    "benimBosListem"
   ]
  },
  {
   "cell_type": "code",
   "execution_count": 103,
   "id": "3b84c61c-0885-41b2-ae7a-033b1d56323e",
   "metadata": {},
   "outputs": [],
   "source": [
    "benimBosListem.append(10)"
   ]
  },
  {
   "cell_type": "code",
   "execution_count": 105,
   "id": "bd645b6c-a29b-47a4-866a-5d25828d1719",
   "metadata": {},
   "outputs": [
    {
     "data": {
      "text/plain": [
       "[10]"
      ]
     },
     "execution_count": 105,
     "metadata": {},
     "output_type": "execute_result"
    }
   ],
   "source": [
    "benimBosListem"
   ]
  },
  {
   "cell_type": "code",
   "execution_count": 107,
   "id": "f56e525e-4c2a-4fb5-9137-aee856e25d7a",
   "metadata": {},
   "outputs": [],
   "source": [
    "benimBosSozlugum = dict()"
   ]
  },
  {
   "cell_type": "code",
   "execution_count": 111,
   "id": "23fa621f-7fe0-43ef-bbc5-357ebbbbe1f0",
   "metadata": {},
   "outputs": [],
   "source": [
    "benimBosSozlugum[\"key\"] = 3234"
   ]
  },
  {
   "cell_type": "code",
   "execution_count": 113,
   "id": "e2e54d2a-a48b-4e80-a284-15e40aa08ac6",
   "metadata": {},
   "outputs": [
    {
     "data": {
      "text/plain": [
       "{'key': 3234}"
      ]
     },
     "execution_count": 113,
     "metadata": {},
     "output_type": "execute_result"
    }
   ],
   "source": [
    "benimBosSozlugum"
   ]
  },
  {
   "cell_type": "code",
   "execution_count": 3,
   "id": "29df402c-b546-4192-8820-70b218d9a53d",
   "metadata": {},
   "outputs": [],
   "source": [
    "sett = {1,2,3,4}"
   ]
  },
  {
   "cell_type": "code",
   "execution_count": 11,
   "id": "b44864ce-2dc1-4da6-ba04-113a03673884",
   "metadata": {},
   "outputs": [
    {
     "ename": "TypeError",
     "evalue": "'set' object is not subscriptable",
     "output_type": "error",
     "traceback": [
      "\u001b[1;31m---------------------------------------------------------------------------\u001b[0m",
      "\u001b[1;31mTypeError\u001b[0m                                 Traceback (most recent call last)",
      "Cell \u001b[1;32mIn[11], line 1\u001b[0m\n\u001b[1;32m----> 1\u001b[0m sett[\u001b[38;5;241m1\u001b[39m]\n",
      "\u001b[1;31mTypeError\u001b[0m: 'set' object is not subscriptable"
     ]
    }
   ],
   "source": [
    "sett[1] "
   ]
  },
  {
   "cell_type": "code",
   "execution_count": 7,
   "id": "96348852-d6a6-4ba7-ba65-9a73e84ca6ab",
   "metadata": {},
   "outputs": [
    {
     "data": {
      "text/plain": [
       "{1, 2, 3, 4}"
      ]
     },
     "execution_count": 7,
     "metadata": {},
     "output_type": "execute_result"
    }
   ],
   "source": [
    "sett"
   ]
  },
  {
   "cell_type": "code",
   "execution_count": null,
   "id": "8830cea0-8441-4823-86e3-8a7472519fa5",
   "metadata": {},
   "outputs": [],
   "source": []
  }
 ],
 "metadata": {
  "kernelspec": {
   "display_name": "Python 3 (ipykernel)",
   "language": "python",
   "name": "python3"
  },
  "language_info": {
   "codemirror_mode": {
    "name": "ipython",
    "version": 3
   },
   "file_extension": ".py",
   "mimetype": "text/x-python",
   "name": "python",
   "nbconvert_exporter": "python",
   "pygments_lexer": "ipython3",
   "version": "3.12.4"
  }
 },
 "nbformat": 4,
 "nbformat_minor": 5
}
