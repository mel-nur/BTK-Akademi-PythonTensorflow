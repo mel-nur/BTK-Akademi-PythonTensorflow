{
 "cells": [
  {
   "cell_type": "code",
   "execution_count": 303,
   "id": "ec75e551-ad17-4ae4-b84d-5aa7f86748f3",
   "metadata": {},
   "outputs": [],
   "source": [
    "def toplama(numara1,numara2):\n",
    "    return numara1+numara2"
   ]
  },
  {
   "cell_type": "markdown",
   "id": "fb70cf04-d006-4aa9-bfc7-7861d8605668",
   "metadata": {},
   "source": [
    "x = int(input(\"İlk numarayı giriniz: \"))\n",
    "y = int(input(\"İkinci numarayı giriniz: \"))\n",
    "toplama(x,y)"
   ]
  },
  {
   "cell_type": "markdown",
   "id": "d09c50ab-030d-42f3-8bfa-5c13f15d480a",
   "metadata": {},
   "source": [
    "## try & except & else & finally"
   ]
  },
  {
   "cell_type": "code",
   "execution_count": 308,
   "id": "260708ab-cc78-46c5-bbc5-1dc68524b9bb",
   "metadata": {},
   "outputs": [
    {
     "name": "stdin",
     "output_type": "stream",
     "text": [
      "Numaranızı Giriniz :  atıl\n"
     ]
    },
    {
     "name": "stdout",
     "output_type": "stream",
     "text": [
      "Lütfen gerçekten numara giriniz\n",
      "finally çağırıldı\n"
     ]
    },
    {
     "name": "stdin",
     "output_type": "stream",
     "text": [
      "Numaranızı Giriniz :  blkjbkhl\n"
     ]
    },
    {
     "name": "stdout",
     "output_type": "stream",
     "text": [
      "Lütfen gerçekten numara giriniz\n",
      "finally çağırıldı\n"
     ]
    },
    {
     "name": "stdin",
     "output_type": "stream",
     "text": [
      "Numaranızı Giriniz :  10\n"
     ]
    },
    {
     "name": "stdout",
     "output_type": "stream",
     "text": [
      "Teşekkürler\n",
      "finally çağırıldı\n"
     ]
    }
   ],
   "source": [
    "while True:\n",
    "    try:\n",
    "        benimInt = int(input(\"Numaranızı Giriniz : \"))\n",
    "    except:\n",
    "        print(\"Lütfen gerçekten numara giriniz\")\n",
    "        continue\n",
    "    else:\n",
    "        print(\"Teşekkürler\")\n",
    "        break\n",
    "    finally:\n",
    "        print(\"finally çağırıldı\")"
   ]
  },
  {
   "cell_type": "code",
   "execution_count": null,
   "id": "eaded15e-84e1-47e1-b0ad-df5c5fcfad2c",
   "metadata": {},
   "outputs": [],
   "source": []
  }
 ],
 "metadata": {
  "kernelspec": {
   "display_name": "Python 3 (ipykernel)",
   "language": "python",
   "name": "python3"
  },
  "language_info": {
   "codemirror_mode": {
    "name": "ipython",
    "version": 3
   },
   "file_extension": ".py",
   "mimetype": "text/x-python",
   "name": "python",
   "nbconvert_exporter": "python",
   "pygments_lexer": "ipython3",
   "version": "3.12.4"
  }
 },
 "nbformat": 4,
 "nbformat_minor": 5
}
