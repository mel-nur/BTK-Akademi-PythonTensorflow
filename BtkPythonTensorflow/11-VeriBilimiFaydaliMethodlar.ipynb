{
 "cells": [
  {
   "cell_type": "code",
   "execution_count": 34,
   "id": "7c9271f5-bd7a-4202-966a-da303c360d6e",
   "metadata": {},
   "outputs": [],
   "source": [
    "benimListem = [0,1,2,3,4,5,6]"
   ]
  },
  {
   "cell_type": "code",
   "execution_count": 36,
   "id": "e2712ec4-2fa3-4e24-bdfd-ac5a87302d8a",
   "metadata": {},
   "outputs": [
    {
     "name": "stdout",
     "output_type": "stream",
     "text": [
      "0\n",
      "1\n",
      "2\n",
      "3\n",
      "4\n",
      "5\n",
      "6\n"
     ]
    }
   ],
   "source": [
    "for numara in benimListem:\n",
    "    print(numara)"
   ]
  },
  {
   "cell_type": "markdown",
   "id": "9b85a7d3-7399-492c-93b4-6fc4b8c8ef3e",
   "metadata": {},
   "source": [
    "# Range"
   ]
  },
  {
   "cell_type": "code",
   "execution_count": 43,
   "id": "52b539c5-c4cb-4cd8-a7fb-115ee5471c3d",
   "metadata": {},
   "outputs": [
    {
     "data": {
      "text/plain": [
       "range(0, 15)"
      ]
     },
     "execution_count": 43,
     "metadata": {},
     "output_type": "execute_result"
    }
   ],
   "source": [
    "range(15)"
   ]
  },
  {
   "cell_type": "code",
   "execution_count": 45,
   "id": "d5ce66e1-ed5b-4f05-9b0a-2362991936d4",
   "metadata": {},
   "outputs": [
    {
     "data": {
      "text/plain": [
       "[0, 1, 2, 3, 4, 5, 6, 7, 8, 9, 10, 11, 12, 13, 14]"
      ]
     },
     "execution_count": 45,
     "metadata": {},
     "output_type": "execute_result"
    }
   ],
   "source": [
    "list(range(15))"
   ]
  },
  {
   "cell_type": "code",
   "execution_count": 47,
   "id": "cde9a7b9-401f-4754-8a34-7a1bab9abec2",
   "metadata": {},
   "outputs": [
    {
     "name": "stdout",
     "output_type": "stream",
     "text": [
      "0\n",
      "5\n",
      "10\n",
      "15\n",
      "20\n",
      "25\n",
      "30\n",
      "35\n",
      "40\n",
      "45\n",
      "50\n",
      "55\n",
      "60\n",
      "65\n",
      "70\n"
     ]
    }
   ],
   "source": [
    "for numara in list(range(15)):\n",
    "    print(numara * 5)"
   ]
  },
  {
   "cell_type": "code",
   "execution_count": 51,
   "id": "3cd5e4a4-8c9e-433e-844c-bbdb35e5c1bb",
   "metadata": {},
   "outputs": [
    {
     "data": {
      "text/plain": [
       "[5, 9, 13, 17, 21]"
      ]
     },
     "execution_count": 51,
     "metadata": {},
     "output_type": "execute_result"
    }
   ],
   "source": [
    "list(range(5,22,4))"
   ]
  },
  {
   "cell_type": "markdown",
   "id": "93fe2e4e-89f6-4f00-990b-a683f3ee5461",
   "metadata": {},
   "source": [
    "# enumerate"
   ]
  },
  {
   "cell_type": "code",
   "execution_count": 56,
   "id": "045c1f2f-07e7-4dfa-bb30-776a32e2a65c",
   "metadata": {},
   "outputs": [
    {
     "name": "stdout",
     "output_type": "stream",
     "text": [
      "güncel numara : 5 güncel index : 0\n",
      "güncel numara : 6 güncel index : 1\n",
      "güncel numara : 7 güncel index : 2\n",
      "güncel numara : 8 güncel index : 3\n",
      "güncel numara : 9 güncel index : 4\n",
      "güncel numara : 10 güncel index : 5\n",
      "güncel numara : 11 güncel index : 6\n",
      "güncel numara : 12 güncel index : 7\n",
      "güncel numara : 13 güncel index : 8\n",
      "güncel numara : 14 güncel index : 9\n"
     ]
    }
   ],
   "source": [
    "index = 0\n",
    "for numara in list(range(5,15)):\n",
    "    print(f\"güncel numara : {numara} güncel index : {index}\")\n",
    "    index = index + 1"
   ]
  },
  {
   "cell_type": "code",
   "execution_count": 58,
   "id": "145fadc9-bfc4-4743-a2d9-153df87f5cc4",
   "metadata": {},
   "outputs": [
    {
     "name": "stdout",
     "output_type": "stream",
     "text": [
      "(0, 5)\n",
      "(1, 6)\n",
      "(2, 7)\n",
      "(3, 8)\n",
      "(4, 9)\n",
      "(5, 10)\n",
      "(6, 11)\n",
      "(7, 12)\n",
      "(8, 13)\n",
      "(9, 14)\n"
     ]
    }
   ],
   "source": [
    "for eleman in enumerate(list(range(5,15))):\n",
    "    print(eleman)"
   ]
  },
  {
   "cell_type": "code",
   "execution_count": 60,
   "id": "919493fd-9678-40c5-a700-c1c09654c58a",
   "metadata": {},
   "outputs": [
    {
     "name": "stdout",
     "output_type": "stream",
     "text": [
      "5\n",
      "6\n",
      "7\n",
      "8\n",
      "9\n",
      "10\n",
      "11\n",
      "12\n",
      "13\n",
      "14\n"
     ]
    }
   ],
   "source": [
    "for (index,numara) in enumerate(list(range(5,15))):\n",
    "    print(numara)"
   ]
  },
  {
   "cell_type": "markdown",
   "id": "88e5ae73-34a5-4fc2-8883-220c936ae1f7",
   "metadata": {},
   "source": [
    "# random"
   ]
  },
  {
   "cell_type": "code",
   "execution_count": 64,
   "id": "7ddc6a3c-4a58-4801-a679-768e82b5a555",
   "metadata": {},
   "outputs": [],
   "source": [
    "from random import randint"
   ]
  },
  {
   "cell_type": "code",
   "execution_count": 66,
   "id": "58e51582-193b-4e80-b3ad-a449eb1e6a2f",
   "metadata": {},
   "outputs": [
    {
     "data": {
      "text/plain": [
       "38"
      ]
     },
     "execution_count": 66,
     "metadata": {},
     "output_type": "execute_result"
    }
   ],
   "source": [
    "randint(0,100)"
   ]
  },
  {
   "cell_type": "code",
   "execution_count": 68,
   "id": "be71a170-a368-43d8-9813-204d2c508eb9",
   "metadata": {},
   "outputs": [
    {
     "data": {
      "text/plain": [
       "83"
      ]
     },
     "execution_count": 68,
     "metadata": {},
     "output_type": "execute_result"
    }
   ],
   "source": [
    "randint(0,100)"
   ]
  },
  {
   "cell_type": "code",
   "execution_count": 70,
   "id": "0783c82a-b469-4674-8e3a-759a0c7c2c4f",
   "metadata": {},
   "outputs": [
    {
     "data": {
      "text/plain": [
       "53"
      ]
     },
     "execution_count": 70,
     "metadata": {},
     "output_type": "execute_result"
    }
   ],
   "source": [
    "randint(0,100)"
   ]
  },
  {
   "cell_type": "code",
   "execution_count": 72,
   "id": "3b7b8e48-c58e-460e-bb09-051cc5e79093",
   "metadata": {},
   "outputs": [],
   "source": [
    "yeniListe = list(range(0,10))"
   ]
  },
  {
   "cell_type": "code",
   "execution_count": 74,
   "id": "0ef4cfe9-9433-4f29-9574-e10b2b3f239f",
   "metadata": {},
   "outputs": [
    {
     "data": {
      "text/plain": [
       "[0, 1, 2, 3, 4, 5, 6, 7, 8, 9]"
      ]
     },
     "execution_count": 74,
     "metadata": {},
     "output_type": "execute_result"
    }
   ],
   "source": [
    "yeniListe"
   ]
  },
  {
   "cell_type": "code",
   "execution_count": 78,
   "id": "4d15c82c-8e74-4d07-8f8e-bb612521d138",
   "metadata": {},
   "outputs": [],
   "source": [
    "from random import shuffle #shuffle verilen listeyi rastegele dizer"
   ]
  },
  {
   "cell_type": "code",
   "execution_count": 80,
   "id": "ec8afec6-4eee-4594-9222-7adafd260143",
   "metadata": {},
   "outputs": [],
   "source": [
    "shuffle(yeniListe)"
   ]
  },
  {
   "cell_type": "code",
   "execution_count": 82,
   "id": "032fd256-bb73-43f4-93ce-3986e5b70abb",
   "metadata": {},
   "outputs": [
    {
     "data": {
      "text/plain": [
       "[0, 6, 4, 3, 2, 1, 7, 9, 5, 8]"
      ]
     },
     "execution_count": 82,
     "metadata": {},
     "output_type": "execute_result"
    }
   ],
   "source": [
    "yeniListe"
   ]
  },
  {
   "cell_type": "markdown",
   "id": "a66b0955-682e-44d7-853a-73ae21c18865",
   "metadata": {},
   "source": [
    "## zip"
   ]
  },
  {
   "cell_type": "code",
   "execution_count": 85,
   "id": "0787eed4-118d-4a11-9ca2-576a565b55d7",
   "metadata": {},
   "outputs": [],
   "source": [
    "yemekListesi = [\"muz\" , \"ananas\" , \"elma\"]\n",
    "kaloriListesi = [100,200,300]\n",
    "gunListesi = [\"pazartesi\" , \"salı\" , \"çarşamba\"]"
   ]
  },
  {
   "cell_type": "code",
   "execution_count": 87,
   "id": "2ad1a48c-fe59-4676-9358-06f25d46e002",
   "metadata": {},
   "outputs": [
    {
     "data": {
      "text/plain": [
       "zip"
      ]
     },
     "execution_count": 87,
     "metadata": {},
     "output_type": "execute_result"
    }
   ],
   "source": [
    "type(zip(yemekListesi , kaloriListesi , gunListesi))"
   ]
  },
  {
   "cell_type": "code",
   "execution_count": 89,
   "id": "b2c5ca52-a663-4109-8ae7-f2ff165c5e9d",
   "metadata": {},
   "outputs": [],
   "source": [
    "ziplenmisListe = list(zip(yemekListesi , kaloriListesi , gunListesi))"
   ]
  },
  {
   "cell_type": "code",
   "execution_count": 91,
   "id": "394170ec-ff14-4be9-b113-cb0a57d0b81a",
   "metadata": {},
   "outputs": [
    {
     "name": "stdout",
     "output_type": "stream",
     "text": [
      "<class 'tuple'>\n",
      "<class 'tuple'>\n",
      "<class 'tuple'>\n"
     ]
    }
   ],
   "source": [
    "for eleman in ziplenmisListe:\n",
    "    print(type(eleman))"
   ]
  },
  {
   "cell_type": "code",
   "execution_count": 93,
   "id": "08a07b63-2b0d-4931-b417-97dc0d76872b",
   "metadata": {},
   "outputs": [
    {
     "data": {
      "text/plain": [
       "[('muz', 100, 'pazartesi'), ('ananas', 200, 'salı'), ('elma', 300, 'çarşamba')]"
      ]
     },
     "execution_count": 93,
     "metadata": {},
     "output_type": "execute_result"
    }
   ],
   "source": [
    "ziplenmisListe"
   ]
  },
  {
   "cell_type": "markdown",
   "id": "ade152a5-935a-4de9-8eb0-b40138d167b3",
   "metadata": {},
   "source": [
    "## listeler ileri seviye"
   ]
  },
  {
   "cell_type": "code",
   "execution_count": 96,
   "id": "34519b68-0021-43d8-aedc-0b6c6fe117e6",
   "metadata": {},
   "outputs": [],
   "source": [
    "listeOrnegi = []\n",
    "benimString = \"melike çotak\"\n",
    "\n",
    "for harf in benimString:\n",
    "    listeOrnegi.append(harf)"
   ]
  },
  {
   "cell_type": "code",
   "execution_count": 98,
   "id": "65c9b0f8-a95e-47e1-bdd0-159551a14067",
   "metadata": {},
   "outputs": [
    {
     "data": {
      "text/plain": [
       "['m', 'e', 'l', 'i', 'k', 'e', ' ', 'ç', 'o', 't', 'a', 'k']"
      ]
     },
     "execution_count": 98,
     "metadata": {},
     "output_type": "execute_result"
    }
   ],
   "source": [
    "listeOrnegi"
   ]
  },
  {
   "cell_type": "code",
   "execution_count": 106,
   "id": "63f82839-d91d-44e4-9f00-0e0aae8b7944",
   "metadata": {},
   "outputs": [
    {
     "data": {
      "text/plain": [
       "['m', 'e', 'l', 'i', 'k', 'e', ' ', 'ç', 'o', 't', 'a', 'k']"
      ]
     },
     "execution_count": 106,
     "metadata": {},
     "output_type": "execute_result"
    }
   ],
   "source": [
    "yeniString = \"melike çotak\"\n",
    "yeniListeOrnegi = [eleman for eleman in yeniString] \n",
    "yeniListeOrnegi"
   ]
  },
  {
   "cell_type": "code",
   "execution_count": 173,
   "id": "6b95ea8b-87d3-4d46-8cfd-687eb745fab7",
   "metadata": {},
   "outputs": [
    {
     "data": {
      "text/plain": [
       "[0, 5, 10, 15, 20, 25, 30, 35, 40, 45]"
      ]
     },
     "execution_count": 173,
     "metadata": {},
     "output_type": "execute_result"
    }
   ],
   "source": [
    "ikinciListeOrnegi = [numara * 5 for numara in list(range(0,10))]\n",
    "ikinciListeOrnegi"
   ]
  },
  {
   "cell_type": "code",
   "execution_count": null,
   "id": "210d5f4e-d0e8-45fe-9839-7f3040361448",
   "metadata": {},
   "outputs": [],
   "source": []
  },
  {
   "cell_type": "code",
   "execution_count": null,
   "id": "a3e110b1-4c2e-4451-9efb-2abe0e160a7a",
   "metadata": {},
   "outputs": [],
   "source": []
  },
  {
   "cell_type": "code",
   "execution_count": null,
   "id": "4bc9c43a-96ba-438b-9aac-d04d3cd8274e",
   "metadata": {},
   "outputs": [],
   "source": []
  }
 ],
 "metadata": {
  "kernelspec": {
   "display_name": "Python 3 (ipykernel)",
   "language": "python",
   "name": "python3"
  },
  "language_info": {
   "codemirror_mode": {
    "name": "ipython",
    "version": 3
   },
   "file_extension": ".py",
   "mimetype": "text/x-python",
   "name": "python",
   "nbconvert_exporter": "python",
   "pygments_lexer": "ipython3",
   "version": "3.12.4"
  }
 },
 "nbformat": 4,
 "nbformat_minor": 5
}
