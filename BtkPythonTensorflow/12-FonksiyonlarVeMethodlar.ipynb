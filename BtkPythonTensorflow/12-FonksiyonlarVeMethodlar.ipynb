{
 "cells": [
  {
   "cell_type": "code",
   "execution_count": 177,
   "id": "d4430549-488d-497a-aac0-7ddd08ddc78f",
   "metadata": {},
   "outputs": [],
   "source": [
    "benimAdim = \"melike çotak\""
   ]
  },
  {
   "cell_type": "code",
   "execution_count": 179,
   "id": "b9ef3abb-cd6c-4d09-b414-72fb471f3d7d",
   "metadata": {},
   "outputs": [
    {
     "data": {
      "text/plain": [
       "'MELIKE ÇOTAK'"
      ]
     },
     "execution_count": 179,
     "metadata": {},
     "output_type": "execute_result"
    }
   ],
   "source": [
    "benimAdim.upper()"
   ]
  },
  {
   "cell_type": "code",
   "execution_count": 181,
   "id": "3b4ac288-e7cd-49e8-8efc-2b0a04a99a66",
   "metadata": {},
   "outputs": [
    {
     "data": {
      "text/plain": [
       "'melike çotak'"
      ]
     },
     "execution_count": 181,
     "metadata": {},
     "output_type": "execute_result"
    }
   ],
   "source": [
    "benimAdim"
   ]
  },
  {
   "cell_type": "code",
   "execution_count": 183,
   "id": "25dbc26a-8c01-4f51-b72b-8a673fbc8523",
   "metadata": {},
   "outputs": [],
   "source": [
    "benimAdimBuyukHarfli = benimAdim.upper()"
   ]
  },
  {
   "cell_type": "code",
   "execution_count": 185,
   "id": "ac1f6364-e29a-4523-991c-78bcf48b151e",
   "metadata": {},
   "outputs": [
    {
     "data": {
      "text/plain": [
       "'MELIKE ÇOTAK'"
      ]
     },
     "execution_count": 185,
     "metadata": {},
     "output_type": "execute_result"
    }
   ],
   "source": [
    "benimAdimBuyukHarfli"
   ]
  },
  {
   "cell_type": "code",
   "execution_count": 187,
   "id": "5d1b5500-8ddd-4a14-b029-1bbc52bef49b",
   "metadata": {},
   "outputs": [
    {
     "data": {
      "text/plain": [
       "'melike çotak'"
      ]
     },
     "execution_count": 187,
     "metadata": {},
     "output_type": "execute_result"
    }
   ],
   "source": [
    "benimAdim"
   ]
  },
  {
   "cell_type": "code",
   "execution_count": 189,
   "id": "ef61b09e-d194-4893-b94c-e6b12d0de96b",
   "metadata": {},
   "outputs": [],
   "source": [
    "def ilkFonksiyon():\n",
    "    print(\"İlk Fonksiyonum\")"
   ]
  },
  {
   "cell_type": "code",
   "execution_count": 191,
   "id": "ac0722b4-abd0-4349-bbc3-b15690adb274",
   "metadata": {},
   "outputs": [
    {
     "name": "stdout",
     "output_type": "stream",
     "text": [
      "İlk Fonksiyonum\n"
     ]
    }
   ],
   "source": [
    "ilkFonksiyon()"
   ]
  },
  {
   "cell_type": "code",
   "execution_count": 193,
   "id": "17c1f4da-43fd-4d72-b612-158ab655e500",
   "metadata": {},
   "outputs": [
    {
     "name": "stdout",
     "output_type": "stream",
     "text": [
      "İlk Fonksiyonum\n"
     ]
    }
   ],
   "source": [
    "ilkFonksiyon()"
   ]
  },
  {
   "cell_type": "code",
   "execution_count": 195,
   "id": "10765480-362e-4738-afeb-1e04eeb63681",
   "metadata": {},
   "outputs": [
    {
     "name": "stdout",
     "output_type": "stream",
     "text": [
      "İlk Fonksiyonum\n",
      "İlk Fonksiyonum\n",
      "İlk Fonksiyonum\n"
     ]
    }
   ],
   "source": [
    "ilkFonksiyon()\n",
    "ilkFonksiyon()\n",
    "ilkFonksiyon()"
   ]
  },
  {
   "cell_type": "markdown",
   "id": "b1fc0f15-77f1-46f3-885a-ae6867d78826",
   "metadata": {},
   "source": [
    "## input & return"
   ]
  },
  {
   "cell_type": "code",
   "execution_count": 198,
   "id": "ccc63af7-dead-45a6-995e-5491fd1166a3",
   "metadata": {},
   "outputs": [],
   "source": [
    "def merhabaDunya(yazdirilacakIsım):\n",
    "    print(\"merhaba\")\n",
    "    print(yazdirilacakIsım)"
   ]
  },
  {
   "cell_type": "code",
   "execution_count": 200,
   "id": "1baf5d8a-b278-4b17-8c1c-621871088d36",
   "metadata": {},
   "outputs": [
    {
     "name": "stdout",
     "output_type": "stream",
     "text": [
      "merhaba\n",
      "Melike\n"
     ]
    }
   ],
   "source": [
    "merhabaDunya(\"Melike\")"
   ]
  },
  {
   "cell_type": "code",
   "execution_count": 202,
   "id": "eb0caee6-a193-41cc-bc91-8c3a162cba9d",
   "metadata": {},
   "outputs": [],
   "source": [
    "def Merhaba(isim = \"Melike\"):\n",
    "    print(\"merhaba\")\n",
    "    print(isim)"
   ]
  },
  {
   "cell_type": "code",
   "execution_count": 206,
   "id": "e77068f4-7b72-44a4-98ca-8852b60dec73",
   "metadata": {},
   "outputs": [
    {
     "name": "stdout",
     "output_type": "stream",
     "text": [
      "merhaba\n",
      "Melike\n"
     ]
    }
   ],
   "source": [
    "Merhaba()"
   ]
  },
  {
   "cell_type": "code",
   "execution_count": 208,
   "id": "caf783cb-4c54-4aeb-9d4b-de8d873fda7e",
   "metadata": {},
   "outputs": [],
   "source": [
    "def toplama(num1 , num2):\n",
    "    sonuc = num1 + num2\n",
    "    print(sonuc)"
   ]
  },
  {
   "cell_type": "code",
   "execution_count": 210,
   "id": "db6cdc63-a910-4701-9018-222566d81a6d",
   "metadata": {},
   "outputs": [
    {
     "name": "stdout",
     "output_type": "stream",
     "text": [
      "30\n"
     ]
    }
   ],
   "source": [
    "toplama(10,20)"
   ]
  },
  {
   "cell_type": "code",
   "execution_count": 212,
   "id": "80cd1bef-f9cd-4745-b9f1-bbe0981e611e",
   "metadata": {},
   "outputs": [],
   "source": [
    "def superToplama(num1 , num2 , num3):\n",
    "    print(num1+num2+num3)"
   ]
  },
  {
   "cell_type": "code",
   "execution_count": 214,
   "id": "f2bb9956-0e4e-427f-9973-cf1a3b8eddac",
   "metadata": {},
   "outputs": [
    {
     "name": "stdout",
     "output_type": "stream",
     "text": [
      "60\n"
     ]
    }
   ],
   "source": [
    "superToplama(10,20,30)"
   ]
  },
  {
   "cell_type": "code",
   "execution_count": 216,
   "id": "d7692139-1647-481a-93c5-d187b491a260",
   "metadata": {},
   "outputs": [
    {
     "name": "stdout",
     "output_type": "stream",
     "text": [
      "30\n"
     ]
    }
   ],
   "source": [
    "yeniDegisken = toplama(10,20)"
   ]
  },
  {
   "cell_type": "code",
   "execution_count": 218,
   "id": "e0a538a8-0b7d-4fec-bd4c-9a3ed06621eb",
   "metadata": {},
   "outputs": [
    {
     "data": {
      "text/plain": [
       "NoneType"
      ]
     },
     "execution_count": 218,
     "metadata": {},
     "output_type": "execute_result"
    }
   ],
   "source": [
    "type(yeniDegisken)"
   ]
  },
  {
   "cell_type": "code",
   "execution_count": 226,
   "id": "b6fa67f8-4f6a-436b-82dd-4e0e580fd166",
   "metadata": {},
   "outputs": [],
   "source": [
    "def dondurmeliToplama(num1 , num2):\n",
    "    return num1 + num2"
   ]
  },
  {
   "cell_type": "code",
   "execution_count": 228,
   "id": "7530c5f7-86c3-4b92-b1ed-e9a1d4c06dbb",
   "metadata": {},
   "outputs": [],
   "source": [
    "yeniSonuc = dondurmeliToplama(10,20)"
   ]
  },
  {
   "cell_type": "code",
   "execution_count": 232,
   "id": "377b04d4-6360-456a-9c66-b251075f740b",
   "metadata": {},
   "outputs": [
    {
     "data": {
      "text/plain": [
       "30"
      ]
     },
     "execution_count": 232,
     "metadata": {},
     "output_type": "execute_result"
    }
   ],
   "source": [
    "yeniSonuc"
   ]
  },
  {
   "cell_type": "markdown",
   "id": "5299d1aa-dc54-4906-84be-38ae60ee709e",
   "metadata": {},
   "source": [
    "## args & kwargs"
   ]
  },
  {
   "cell_type": "code",
   "execution_count": 235,
   "id": "36c1a1e0-4ec4-4e5d-bb4d-d81e152edd53",
   "metadata": {},
   "outputs": [],
   "source": [
    "def yeniToplama(*args):\n",
    "    return sum(args)"
   ]
  },
  {
   "cell_type": "code",
   "execution_count": 237,
   "id": "da23dbc3-2898-440c-b30f-1e4d6f51e242",
   "metadata": {},
   "outputs": [
    {
     "data": {
      "text/plain": [
       "210"
      ]
     },
     "execution_count": 237,
     "metadata": {},
     "output_type": "execute_result"
    }
   ],
   "source": [
    "yeniToplama(10,20,30,40,50,60)"
   ]
  },
  {
   "cell_type": "code",
   "execution_count": 239,
   "id": "f350be8c-f6e8-41f8-92e3-d5f0ed4db9c6",
   "metadata": {},
   "outputs": [
    {
     "data": {
      "text/plain": [
       "30"
      ]
     },
     "execution_count": 239,
     "metadata": {},
     "output_type": "execute_result"
    }
   ],
   "source": [
    "yeniToplama(10,20)"
   ]
  },
  {
   "cell_type": "code",
   "execution_count": 245,
   "id": "8cd27a0e-269c-434a-b27f-218e542df8c4",
   "metadata": {},
   "outputs": [],
   "source": [
    "def benimFonksiyonum(*args):\n",
    "    return args"
   ]
  },
  {
   "cell_type": "code",
   "execution_count": 247,
   "id": "24ab97e4-faa4-4596-9ca9-7163dec6e1da",
   "metadata": {},
   "outputs": [
    {
     "data": {
      "text/plain": [
       "tuple"
      ]
     },
     "execution_count": 247,
     "metadata": {},
     "output_type": "execute_result"
    }
   ],
   "source": [
    "type(benimFonksiyonum(20,30,40))"
   ]
  },
  {
   "cell_type": "code",
   "execution_count": 253,
   "id": "9dc075b9-9f0a-4578-b900-bcb00c9660bf",
   "metadata": {},
   "outputs": [],
   "source": [
    "def ornekFonksiyon(**kwargs):\n",
    "    return kwargs"
   ]
  },
  {
   "cell_type": "code",
   "execution_count": 255,
   "id": "db97fec7-c521-4b3a-8973-1ea39e30f33c",
   "metadata": {},
   "outputs": [
    {
     "data": {
      "text/plain": [
       "dict"
      ]
     },
     "execution_count": 255,
     "metadata": {},
     "output_type": "execute_result"
    }
   ],
   "source": [
    "type(ornekFonksiyon(muz = 100 , elma = 200 , ananas = 300))"
   ]
  },
  {
   "cell_type": "code",
   "execution_count": 261,
   "id": "bf13bdac-0d15-48c0-9298-c8ef75802918",
   "metadata": {},
   "outputs": [],
   "source": [
    "def keyWordKontrolu(**kwargs):\n",
    "    if \"atıl\" in kwargs:\n",
    "        print(\"atıl var\")\n",
    "    else:\n",
    "        print(\"atıl yok\")"
   ]
  },
  {
   "cell_type": "code",
   "execution_count": 265,
   "id": "fcfc15be-7b5c-4b01-974a-1cb93d24815e",
   "metadata": {},
   "outputs": [
    {
     "name": "stdout",
     "output_type": "stream",
     "text": [
      "atıl yok\n"
     ]
    }
   ],
   "source": [
    "keyWordKontrolu(ahmet = 58 , melike = 20 , beyza = 3)"
   ]
  },
  {
   "cell_type": "code",
   "execution_count": null,
   "id": "8769b7f4-c77b-4128-bd61-415e8707c8ae",
   "metadata": {},
   "outputs": [],
   "source": []
  }
 ],
 "metadata": {
  "kernelspec": {
   "display_name": "Python 3 (ipykernel)",
   "language": "python",
   "name": "python3"
  },
  "language_info": {
   "codemirror_mode": {
    "name": "ipython",
    "version": 3
   },
   "file_extension": ".py",
   "mimetype": "text/x-python",
   "name": "python",
   "nbconvert_exporter": "python",
   "pygments_lexer": "ipython3",
   "version": "3.12.4"
  }
 },
 "nbformat": 4,
 "nbformat_minor": 5
}
